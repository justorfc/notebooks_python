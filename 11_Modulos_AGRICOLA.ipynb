{
  "nbformat": 4,
  "nbformat_minor": 0,
  "metadata": {
    "colab": {
      "provenance": [],
      "include_colab_link": true
    },
    "kernelspec": {
      "name": "python3",
      "display_name": "Python 3"
    }
  },
  "cells": [
    {
      "cell_type": "markdown",
      "metadata": {
        "id": "view-in-github",
        "colab_type": "text"
      },
      "source": [
        "<a href=\"https://colab.research.google.com/github/justorfc/notebooks_python/blob/main/11_Modulos_AGRICOLA.ipynb\" target=\"_parent\"><img src=\"https://colab.research.google.com/assets/colab-badge.svg\" alt=\"Open In Colab\"/></a>"
      ]
    },
    {
      "cell_type": "markdown",
      "metadata": {
        "id": "ChdedOm4hk1U"
      },
      "source": [
        "# **[Módulos de Python](https://docs.python.org/es/3/tutorial/modules.html)**\n",
        "\n",
        "Un módulo le permite a usted organizar lógicamente su código Python. Agrupando código relacionado dentro de un módulo hace el código mas fácil de entender y usar. Un módulo es un objeto de Python con atributos con nombres arbitrarios que puede enlazar y hacer referencia.\n",
        "\n",
        "Simplemente, un módulo no es otra cosa sino un archivo con extensión .py. Un módulo puede definir funciones, clases y variables, también puede incluir código ejecutable."
      ]
    },
    {
      "cell_type": "markdown",
      "metadata": {
        "id": "z9XgZRFicu0K"
      },
      "source": [
        "# **Sentencia import**\n",
        "\n",
        "La sentencia **import** se utiliza para importar un módulo. Usted puede usar cualquier archivo de código Python como un módulo ejecutando esta sentencia en otro archivo de código Python. La sentencia import tiene la siguiente sintaxis:\n",
        "\n",
        "import os\n",
        "\n",
        "import re, datetime\n",
        "\n",
        "Cuando el interprete encuentra una sentencia import, este importa el módulo si el mismo esta presente en la ruta de búsqueda. Una ruta de búsqueda es una lista de directorios que el interprete busca antes de importar un módulo.\n",
        "\n",
        "Un módulo se carga solo una vez, independientemente de la cantidad de veces que se importe. Esto evita que la ejecución del módulo ocurra una y otra vez si se producen múltiples importaciones.\n",
        "\n",
        "La primera vez que un módulo es importado en un script de Python, se ejecuta su código una vez. Si otro módulo importa el mismo módulo este no se cargará nuevamente; los módulos son inicializados una sola vez."
      ]
    },
    {
      "cell_type": "markdown",
      "metadata": {
        "id": "yInU7MFvy-DT"
      },
      "source": [
        "# **MODULOS MAS UTILIZADOS EN ANALISIS DE DATOS CON PYTHON**\n",
        "\n",
        "Puede encontrar información detallada sobre los módulos más utiles en analisis de datos en el siguiente enlace: [SciPy.org](https://www.scipy.org/)\n",
        "\n",
        "1. [math](https://docs.python.org/3/library/math.html). Este módulo proporciona acceso a las funciones matemáticas definidas por el estándar C.\n",
        "2. [statistics](https://docs.python.org/3/library/statistics.html). Este módulo proporciona funciones para calcular estadísticas matemáticas de datos numéricos\n",
        "3. [Sympy](https://www.sympy.org/es/)\n",
        "4. [numpy](http://www.numpy.org/)\n",
        "5. [Matplotlib: visualización con Python](https://matplotlib.org/)\n",
        "6. [Seaborn](https://seaborn.pydata.org/)\n",
        "7. [Pandas](https://pandas.pydata.org/)\n",
        "8. [Scipy](https://www.scipy.org/ )\n",
        "9. [Sklearns](http://scikit-learn.org/stable/ )\n",
        "10. [Statsmodels](https://www.statsmodels.org/stable/index.html)\n"
      ]
    },
    {
      "cell_type": "code",
      "source": [
        "# Mirar que módulos tiene python\n",
        "help(\"modules\")"
      ],
      "metadata": {
        "id": "dHjDRlD6Jvck"
      },
      "execution_count": null,
      "outputs": []
    },
    {
      "cell_type": "markdown",
      "metadata": {
        "id": "oH9ZNhu75Gnu"
      },
      "source": [
        "# **[3. Sympy](https://www.sympy.org/es/). Computación Simbólica**\n",
        "\n",
        "SymPy es una biblioteca de Python para matemáticas simbólicas. Su propósito es llegar a ser un sistema de álgebra por computadora (CAS) completo manteniendo el código tan simple como sea posible para poder ser legible y extensible de manera fácil. SymPy está escrito en Python enteramente.\n",
        "\n",
        "La biblioteca **Symbolic Python (SymPy)** tiene como objetivo proporcionar un sistema de álgebra computacional (CAS) con todas las funciones.\n",
        "\n",
        "A diferencia de muchos otros CAS, SymPy es principalmente una biblioteca, en lugar de un entorno completo. Esto hace que SymPy sea ideal para la integración en aplicaciones y cálculos que también usan otras bibliotecas de Python. Más información sobre SymPy está disponible en http://www.sympy.org."
      ]
    },
    {
      "cell_type": "markdown",
      "metadata": {
        "id": "fqAsH78B5Wne"
      },
      "source": [
        "#### **Importando SymPy**\n",
        "\n",
        "El proyecto **SymPy** proporciona el módulo Python llamado **sympy**. Es común importar todos los símbolos de este módulo cuando se trabaja con SymPy, usando **from sympy import ***, pero en aras de la claridad y para evitar conflictos de espacio de nombres entre funciones y variables de SymPy y de otros paquetes como como NumPy y SciPy, aquí importaremos la biblioteca en su totalidad como sympy. En el resto de este libro asumiremos que SymPy se importa de esta manera:\n",
        "\n",
        "import sympy"
      ]
    },
    {
      "cell_type": "code",
      "metadata": {
        "id": "pu4Ic_4b4uXY"
      },
      "source": [
        "# función sympy.init_printing, que configura el sistema de impresión de SymPy\n",
        "# para mostrar representaciones de expresiones matemáticas bien formateadas\n",
        "import sympy\n",
        "# sympy.init_printing()"
      ],
      "execution_count": null,
      "outputs": []
    },
    {
      "cell_type": "code",
      "source": [
        "dir(sympy)"
      ],
      "metadata": {
        "id": "p-C6d0IkK49n"
      },
      "execution_count": null,
      "outputs": []
    },
    {
      "cell_type": "markdown",
      "metadata": {
        "id": "9AUHfEM75gW-"
      },
      "source": [
        "Aquí también hemos llamado a la función sympy.init_printing, que configura el sistema de impresión de SymPy para mostrar representaciones de expresiones matemáticas bien formateadas, como veremos ejemplos más adelante en este capítulo. En el cuaderno de IPython, esto configura la impresión para que la biblioteca MathJax JavaScript represente expresiones SymPy, y los resultados se muestran en la página del navegador del cuaderno de IPython.\n",
        "\n",
        "En aras de la conveniencia y la legibilidad de los códigos de ejemplo en este capítulo, también asumiremos que los siguientes símbolos de uso frecuente se importan explícitamente desde SymPy al espacio de nombres local:"
      ]
    },
    {
      "cell_type": "code",
      "metadata": {
        "id": "Co-7MOuC4zDp"
      },
      "source": [
        "from sympy import I, pi, oo\n",
        "oo,I,pi"
      ],
      "execution_count": null,
      "outputs": []
    },
    {
      "cell_type": "markdown",
      "metadata": {
        "id": "APwuTb3N5sK6"
      },
      "source": [
        "**PRECAUCIÓN** Tenga en cuenta que NumPy y SymPy, así como muchas otras bibliotecas, proporcionan muchas funciones y variables con el mismo nombre. Pero estos símbolos rara vez son intercambiables. Por ejemplo, **numpy.pi** es una aproximación numérica del símbolo matemático p, mientras que **sympy.pi** es una representación simbólica de p.\n",
        "\n",
        "Por lo tanto, es importante no mezclarlos y usar, por ejemplo, numpy.pi en lugar de sympy.pi al hacer cálculos simbólicos, o viceversa. Lo mismo es válido para muchas funciones matemáticas fundamentales, como, por ejemplo, numpy.sin versus sympy.sin. Por lo tanto, cuando se usa más de un paquete en computación con Python, es importante usar espacios de nombres consistentemente."
      ]
    },
    {
      "cell_type": "code",
      "metadata": {
        "id": "iRGbSEsbROi6"
      },
      "source": [
        "oo"
      ],
      "execution_count": null,
      "outputs": []
    },
    {
      "cell_type": "code",
      "metadata": {
        "id": "wdiv2WCyRgJa"
      },
      "source": [
        "# Si es una sola variable se usa Symbol, con S mayúscula\n",
        "w = sympy.Symbol(\"w\")\n",
        "w"
      ],
      "execution_count": null,
      "outputs": []
    },
    {
      "cell_type": "code",
      "metadata": {
        "id": "mQubsH00_RlV"
      },
      "source": [
        "# Si son varias variables se usa symbols, en plural y con s minúscula\n",
        "x, y, z = sympy.symbols('x y z')\n",
        "\n",
        "sympy.Integral(sympy.sqrt(1 / x), x)"
      ],
      "execution_count": null,
      "outputs": []
    },
    {
      "cell_type": "code",
      "metadata": {
        "id": "N-1QLxzC56ks"
      },
      "source": [
        "x = sympy.symbols(\"x\")\n",
        "y = sympy.symbols(\"y\", positive=True)\n",
        "sympy.sqrt(x ** 2)"
      ],
      "execution_count": null,
      "outputs": []
    },
    {
      "cell_type": "code",
      "metadata": {
        "id": "1fJcASEASU5r"
      },
      "source": [
        "sympy.sqrt(y ** 2)"
      ],
      "execution_count": null,
      "outputs": []
    },
    {
      "cell_type": "code",
      "metadata": {
        "id": "E_0gVqyf5osB"
      },
      "source": [
        "x = sympy.Symbol(\"x\")\n",
        "y = sympy.Symbol(\"y\", real=True)\n",
        "x,y"
      ],
      "execution_count": null,
      "outputs": []
    },
    {
      "cell_type": "markdown",
      "metadata": {
        "id": "wvhR0U0E-RYO"
      },
      "source": [
        "#### **Symbol()**\n",
        "\n",
        "Una característica central en **SymPy** es representar símbolos matemáticos como objetos de Python. En la biblioteca SymPy, por ejemplo, **la clase sympy.Symbol** se puede usar para este propósito. Una instancia de Symbol tiene un nombre y un conjunto de atributos que describen sus propiedades y métodos para consultar esas propiedades y para operar en el objeto de símbolo Un símbolo en sí mismo no es de mucha utilidad práctica, pero se usan como nodos en los árboles de expresión para representar expresiones algebraicas. Entre los primeros pasos para configurar y analizar un problema con SymPy está la creación de símbolos para las diversas variables y cantidades matemáticas que se requieren para describir el problema.\n",
        "\n",
        "El nombre del símbolo es una cadena, que opcionalmente puede contener un marcado similar a LaTeX para hacer el símbolo el nombre se muestra bien en, por ejemplo, el rico sistema de visualización de IPython. El nombre de un objeto Symbol se le da a el objeto cuando se crea. Los símbolos se pueden crear de diferentes maneras en SymPy, por ejemplo, usando\n",
        "\n",
        "```\n",
        "sympy.Symbol\n",
        "sympy.symbols\n",
        "sympy.var\n",
        "```\n",
        "\n",
        "Normalmente es deseable asociar símbolos SymPy con Variables de Python con el mismo nombre, o un nombre que se corresponda estrechamente con el nombre del símbolo. Por ejemplo, para crear un símbolo llamado x, y vincularlo a la variable Python con el mismo nombre, podemos usar el constructor de la clase Symbol y pasa una cadena que contiene el nombre del símbolo como primer argumento:"
      ]
    },
    {
      "cell_type": "code",
      "metadata": {
        "id": "vOHoBQtE_Uv9"
      },
      "source": [
        "x = sympy.Symbol(\"x\")\n",
        "x"
      ],
      "execution_count": null,
      "outputs": []
    },
    {
      "cell_type": "markdown",
      "metadata": {
        "id": "zdH5het6A7Ry"
      },
      "source": [
        "La variable x ahora representa un símbolo matemático abstracto x del cual muy poca información se conoce por defecto. En este punto, x podría representar, por ejemplo, un número real, un número entero, un complejo número, una función, así como una gran cantidad de otras posibilidades. En muchos casos es suficiente representar un símbolo matemático con este objeto de símbolo abstracto no especificado, pero a veces es necesario dar la biblioteca SymPy da más pistas sobre exactamente qué tipo de símbolo representa un objeto Symbol. Esto puede, por ejemplo, ayudar a SymPy a manipular expresiones analíticas de manera más eficiente. Podemos agregar varios supuestos que limitan las posibles propiedades de un símbolo al agregar argumentos de palabras clave opcionales\n",
        "a las funciones de creación de símbolos, como Symbol. La Tabla 3-1 resume una selección de los usados con frecuencia supuestos que pueden asociarse con una instancia de clase Symbol. Por ejemplo, si tenemos una variable matemática y que se sabe que es un número real, podemos usar el argumento de palabra clave real = True al crear el instancia de símbolo correspondiente. Podemos verificar que SymPy reconoce que el símbolo es real mediante el uso de El atributo **is_real** de la clase Symbol:"
      ]
    },
    {
      "cell_type": "code",
      "metadata": {
        "id": "iUUicd-H_b-V"
      },
      "source": [
        "y = sympy.Symbol(\"y\", real=True)\n",
        "y.is_real"
      ],
      "execution_count": null,
      "outputs": []
    },
    {
      "cell_type": "markdown",
      "metadata": {
        "id": "Njqht5akBsFk"
      },
      "source": [
        "Si, por otro lado, usáramos **is_real** para consultar el símbolo x previamente definido, que no se especificó explícitamente como real y, por lo tanto, puede representar variables tanto reales como no reales, obtenemos None como resultado:"
      ]
    },
    {
      "cell_type": "code",
      "metadata": {
        "id": "q82eHaVn_dmh"
      },
      "source": [
        "x.is_real is None"
      ],
      "execution_count": null,
      "outputs": []
    },
    {
      "cell_type": "markdown",
      "metadata": {
        "id": "qFoIW0O7CWQU"
      },
      "source": [
        "**Tenga en cuenta** que **is_real** devuelve True si se sabe que el símbolo es real, False si se sabe que el símbolo no es real, y None si no se sabe si el símbolo es real o no. Otros atributos para consultar suposiciones sobre objetos Symbol funcionan de la misma manera. Para un ejemplo que muestra un símbolo con el atributo is_real que es falso, considere:"
      ]
    },
    {
      "cell_type": "code",
      "metadata": {
        "id": "T77F1Nn2_e8G"
      },
      "source": [
        "sympy.Symbol(\"z\", imaginary=True).is_real"
      ],
      "execution_count": null,
      "outputs": []
    },
    {
      "cell_type": "markdown",
      "metadata": {
        "id": "BdoPIIu2C5T3"
      },
      "source": [
        "Suposiciones seleccionadas y su palabra clave correspondiente para objetos Symbol. Para obtener una lista completa, vea la cadena de documentación de sympy.\n",
        "\n",
        "1.   Real, Imaginario. Atributos: **is_real, is_imaginary**. Descripción: Especifique que un símbolo representa un verdadero o número imaginario\n",
        "2.   Positivo, Negativo. Atributos: **is_positive, is_negative**. Descripción: Especifica que un símbolo es positivo o negativo\n",
        "3.   Enteros. Atributos: **is_integer**. Descripción: El símbolo representa un entero\n",
        "4.   Impar, Par. Atributos: **is.odd, is.even**. Descripción: El símbolo representa un número entero impar o par.\n",
        "5.   Primo. Atributos: **is_prime**. Descripción: El símbolo es un número primo y es por lo tanto también un número entero.\n",
        "6. Finito, Infinito. Atributos: **is_finite, is_infinite**. Descripción: El símbolo representa una cantidad que es finita o infinita.\n",
        "\n",
        "Entre los supuestos anteriores, los más importantes para especificar explícitamente al crear nuevos Los símbolos son reales y positivos. Cuando corresponda, agregar estos supuestos a los símbolos con frecuencia puede ayudar\n",
        "a SymPy para simplificar varias expresiones más allá de lo posible. Considere el siguiente ejemplo sencillo:"
      ]
    },
    {
      "cell_type": "code",
      "metadata": {
        "id": "c2l3seL5_gbY"
      },
      "source": [
        "x = sympy.Symbol(\"x\")\n",
        "y = sympy.Symbol(\"y\", positive=True)\n",
        "sympy.sqrt(x ** 2)"
      ],
      "execution_count": null,
      "outputs": []
    },
    {
      "cell_type": "code",
      "metadata": {
        "id": "Fq39WxlA_hWF"
      },
      "source": [
        "sympy.sqrt(y ** 2)"
      ],
      "execution_count": null,
      "outputs": []
    },
    {
      "cell_type": "markdown",
      "metadata": {
        "id": "_N3rz5jmIflO"
      },
      "source": [
        "Aquí hemos creado dos símbolos, $x$ e $y$, y hemos calculado la raíz cuadrada del cuadrado de ese símbolo utilizando la función **sympy.sqrt** de SymPy. Si no se sabe nada sobre el símbolo en el cálculo, entonces no se puede simplificar. Si, por otro lado, se sabe que el símbolo representa un número positivo, entonces obviamente $\\sqrt{y^2} = y$, SymPy lo reconoce correctamente en el último ejemplo.\n",
        "\n",
        "Cuando se trabaja con símbolos matemáticos que representan números enteros, en lugar de números reales, también es útil especificar esto explícitamente al crear los símbolos SymPy correspondientes, utilizando, por ejemplo: **integer=True, or even=True or odd=True**, si corresponde . Esto también puede permitir que SymPy simplifique analíticamente ciertas expresiones y evaluaciones de funciones, como en el siguiente ejemplo:"
      ]
    },
    {
      "cell_type": "code",
      "metadata": {
        "id": "I868sobz_jHK"
      },
      "source": [
        "import sympy\n",
        "from sympy import pi\n",
        "\n",
        "n1 = sympy.Symbol(\"n\")\n",
        "n2 = sympy.Symbol(\"n\", integer=True)\n",
        "n3 = sympy.Symbol(\"n\", odd=True)\n",
        "sympy.cos(n1 * pi)"
      ],
      "execution_count": null,
      "outputs": []
    },
    {
      "cell_type": "code",
      "metadata": {
        "id": "LqjP5MZ6_j_W"
      },
      "source": [
        "sympy.cos(n2 * pi)"
      ],
      "execution_count": null,
      "outputs": []
    },
    {
      "cell_type": "code",
      "metadata": {
        "id": "4535AI2M_oyc"
      },
      "source": [
        "sympy.cos(n3 * pi)"
      ],
      "execution_count": null,
      "outputs": []
    },
    {
      "cell_type": "markdown",
      "metadata": {
        "id": "1XBLOi1VKIfx"
      },
      "source": [
        "#### **sympy.symbols()**\n",
        "\n",
        "Para formular un problema matemático no trivial, a menudo es necesario definir una gran cantidad de símbolos. El uso de Symbol para especificar cada símbolo uno por uno puede volverse tedioso y, por conveniencia, SymPy contiene una función **sympy.symbols** para crear varios símbolos en una llamada de función. Esta función toma una cadena de nombres de símbolos separados por comas, así como un conjunto arbitrario de argumentos de palabras clave (que se aplican a todos los símbolos), y devuelve una tupla de símbolos recién creados. Usar la sintaxis de desempaquetado de tuplas de Python junto con una llamada a sympy.**symbols** es una forma conveniente de crear símbolos:"
      ]
    },
    {
      "cell_type": "code",
      "metadata": {
        "id": "w4dPt9ZFKFyg"
      },
      "source": [
        "a, b, c = sympy.symbols(\"a, b, c\", negative=True)\n",
        "d, e, f = sympy.symbols(\"d, e, f\", positive=True)"
      ],
      "execution_count": null,
      "outputs": []
    },
    {
      "cell_type": "markdown",
      "metadata": {
        "id": "bvxEqsA5K_Eg"
      },
      "source": [
        "#### **Números**\n",
        "\n",
        "El propósito de representar símbolos matemáticos como objetos de Python es usarlos en expresiones que representan expresiones matemáticas. Para poder hacer esto, también necesitamos representar otros objetos matemáticos, como **números, funciones y constantes**. En esta sección veremos las clases de SymPy para representar objetos numéricos. Todas estas clases tienen muchos métodos y atributos compartidos con instancias de Symbol, lo que nos permite tratar símbolos y números en pie de igualdad al representar expresiones.\n",
        "\n",
        "Por ejemplo, en la sección anterior vimos que las instancias de Symbol tienen atributos para consultar propiedades de objetos de símbolo, como por ejemplo **is_real**. Necesitamos poder usar los mismos atributos para todos los tipos de objetos, incluidos, por ejemplo, números como enteros y números de punto flotante, al manipular expresiones simbólicas en SymPy. Por esta razón, no podemos usar directamente los objetos integrados de Python para números enteros, int y números de punto flotante, flotante, etc. En cambio, SymPy proporciona **las clases sympy.Integer y sympy.Float** para representar enteros y números de punto flotante dentro del marco de SymPy. Es importante tener en cuenta esta distinción cuando se trabaja con SymPy, pero afortunadamente rara vez tenemos que preocuparnos de crear objetos de tipo **sympy.Integer** y **sympy.Float** para representar números específicos, ya que SymPy promueve automáticamente los números de Python a instancias de estas clases cuando ocurren en expresiones SymPy. Sin embargo, para demostrar esta diferencia entre los tipos de números integrados de Python y los tipos correspondientes en SymPy, en el siguiente ejemplo creamos explícitamente instancias de sympy.Integer y sympy.Float y usamos algunos de sus atributos para consultar sus propiedades:"
      ]
    },
    {
      "cell_type": "code",
      "metadata": {
        "id": "Q3FyU3rGKF84"
      },
      "source": [
        "i = sympy.Integer(19)\n",
        "type(i)"
      ],
      "execution_count": null,
      "outputs": []
    },
    {
      "cell_type": "code",
      "metadata": {
        "id": "DTa9Bdu0Twp5"
      },
      "source": [
        "i"
      ],
      "execution_count": null,
      "outputs": []
    },
    {
      "cell_type": "code",
      "metadata": {
        "id": "yH_kseYtKGC4"
      },
      "source": [
        "i.is_Integer, i.is_real, i.is_odd"
      ],
      "execution_count": null,
      "outputs": []
    },
    {
      "cell_type": "code",
      "metadata": {
        "id": "IsvEEz81KGHV"
      },
      "source": [
        "f = sympy.Float(2.3)\n",
        "type(f)"
      ],
      "execution_count": null,
      "outputs": []
    },
    {
      "cell_type": "code",
      "metadata": {
        "id": "Jsf5xwU8KGL5"
      },
      "source": [
        "f.is_Integer, f.is_real, f.is_odd"
      ],
      "execution_count": null,
      "outputs": []
    },
    {
      "cell_type": "markdown",
      "metadata": {
        "id": "JFRyliJtM5sz"
      },
      "source": [
        "**Consejo** Podemos lanzar instancias de **sympy.Integer** y **sympy.Float** volver a los tipos incorporados de Python usando el tipo estándar casting **int(i)** y **float(f)**.\n",
        "\n",
        "Para crear una representación SymPy de un número, o en general, una expresión arbitraria, también podemos usar la función **sympy.sympify**. Esta función toma una amplia gama de entradas y deriva una expresión compatible con SymPy, y elimina la necesidad de especificar explícitamente qué tipos de objetos se crearán. Para el caso simple de entrada de números podemos usar:"
      ]
    },
    {
      "cell_type": "code",
      "metadata": {
        "id": "qp8Dq6JxKGQ0"
      },
      "source": [
        "i, f = sympy.sympify(19), sympy.sympify(2.3)\n",
        "type(i), type(f)"
      ],
      "execution_count": null,
      "outputs": []
    },
    {
      "cell_type": "markdown",
      "metadata": {
        "id": "U7EenVCoOA7m"
      },
      "source": [
        "#### **Entero**\n",
        "\n",
        "En la sección anterior ya hemos usado la clase Integer para representar enteros. Vale la pena señalar que existe una diferencia entre una instancia de Symbol con la suposición **integer = True** y una instancia de Integer. Mientras que el Símbolo con **integer=True** representa algún entero, la instancia Integer representa un entero específico. Para ambos casos, el atributo **is_integer** es **True**, pero también hay un atributo **is_Integer** (**tenga en cuenta la I mayúscula**), que solo es True para las instancias de Integer. En general, los atributos con nombres en el formulario **is_Name** indican si el objeto es de tipo **Name**, y los atributos con nombres en el formulario is_name indican si se sabe que el objeto cumple el nombre de la condición. Por lo tanto, también hay un atributo is_Symbol que es verdadero para las instancias de Symbol."
      ]
    },
    {
      "cell_type": "code",
      "metadata": {
        "id": "aS5LRH60KGVR"
      },
      "source": [
        "n = sympy.Symbol(\"n\", integer=True)\n",
        "n.is_integer, n.is_Integer, n.is_positive, n.is_Symbol"
      ],
      "execution_count": null,
      "outputs": []
    },
    {
      "cell_type": "code",
      "metadata": {
        "id": "hKRmSi4DKGZz"
      },
      "source": [
        "i = sympy.Integer(19)\n",
        "i.is_integer, i.is_Integer, i.is_positive, i.is_Symbol"
      ],
      "execution_count": null,
      "outputs": []
    },
    {
      "cell_type": "markdown",
      "metadata": {
        "id": "KsEl0rs5PanP"
      },
      "source": [
        "Los enteros en SymPy son de precisión arbitraria, lo que significa que no tienen límites inferiores y superiores fijos, que es el caso cuando se representan enteros con un tamaño de bit específico, como, por ejemplo, en NumPy. Por lo tanto, es posible trabajar con números muy grandes, como se muestra en los siguientes ejemplos:"
      ]
    },
    {
      "cell_type": "code",
      "metadata": {
        "id": "757JfXfEKGeM"
      },
      "source": [
        "i ** 500"
      ],
      "execution_count": null,
      "outputs": []
    },
    {
      "cell_type": "code",
      "metadata": {
        "id": "3ByxpXHaKGiw"
      },
      "source": [
        "sympy.factorial(100)"
      ],
      "execution_count": null,
      "outputs": []
    },
    {
      "cell_type": "markdown",
      "metadata": {
        "id": "C7S_t5rvQKQZ"
      },
      "source": [
        "#### **Float**\n",
        "\n",
        "También hemos encontrado el tipo **sympy.Float** en las secciones anteriores. Al igual que Integer, Float es una precisión arbitraria, en contraste con el tipo flotante incorporado de Python y los tipos flotantes en NumPy. Esto significa que cualquier **Float** puede representar un flotante con un número arbitrario de decimales. Cuando se crea una instancia de **Float** utilizando su constructor, hay dos argumentos: el primer argumento es un flotante de Python o una cadena que representa un número de punto flotante, y el segundo argumento (opcional) es la precisión (número de dígitos decimales significativos) de El objeto **Float**. Por ejemplo, es bien sabido que el número real 0.3 no puede representarse exactamente como un número de coma flotante normal de tamaño de bit fijo, y cuando imprime 0.3 a 20 dígitos significativos, se desplaza como 0.2999999999999999888977698. El objeto **Float** de SymPy puede representar el número real 0.3 sin las limitaciones de los números de coma flotante:"
      ]
    },
    {
      "cell_type": "code",
      "metadata": {
        "id": "EBFyict5KGnC"
      },
      "source": [
        "\"%.250f\" % 0.3 # crear una representación de cadena con 25 decimales"
      ],
      "execution_count": null,
      "outputs": []
    },
    {
      "cell_type": "code",
      "metadata": {
        "id": "Jq3iBEHcKGrV"
      },
      "source": [
        "sympy.Float(0.3, 25)"
      ],
      "execution_count": null,
      "outputs": []
    },
    {
      "cell_type": "code",
      "metadata": {
        "id": "1SYWD9HOKGv4"
      },
      "source": [
        "sympy.Float('0.3', 25) # OBSERVE LA COMILLAS EN 0.3"
      ],
      "execution_count": null,
      "outputs": []
    },
    {
      "cell_type": "markdown",
      "metadata": {
        "id": "dxQLBxe8RufT"
      },
      "source": [
        "Sin embargo, tenga en cuenta que para representar correctamente 0.3 como un objeto Float, es necesario inicializarlo desde una cadena \"0.3\" en lugar del Python float 0.3, que ya contiene un error de punto flotante."
      ]
    },
    {
      "cell_type": "markdown",
      "metadata": {
        "id": "ebV1huJLR7Dh"
      },
      "source": [
        "#### **Racional**\n",
        "\n",
        "Un número racional es una fracción $p/q$ de dos enteros, el numerador $p$ y el denominador $q$. SymPy representa este tipo de números usando la clase **sympy.Rational**. Los números racionales se pueden crear explícitamente, usando **sympy.Rational** y el numerador y el denominador como argumentos:"
      ]
    },
    {
      "cell_type": "code",
      "metadata": {
        "id": "jk52pnb-Rf8c"
      },
      "source": [
        "sympy.Rational(11, 13)"
      ],
      "execution_count": null,
      "outputs": []
    },
    {
      "cell_type": "markdown",
      "metadata": {
        "id": "GfROqLUJSZbu"
      },
      "source": [
        "o pueden ser el resultado de una simplificación realizada por SymPy. En cualquier caso, las operaciones aritméticas entre racionales y enteros siguen siendo racionales."
      ]
    },
    {
      "cell_type": "code",
      "metadata": {
        "id": "W7-ztdtRRpPV"
      },
      "source": [
        "r1 = sympy.Rational(2, 3)\n",
        "r2 = sympy.Rational(4, 5)\n",
        "r1 * r2"
      ],
      "execution_count": null,
      "outputs": []
    },
    {
      "cell_type": "code",
      "metadata": {
        "id": "8v5BOWA_RpTv"
      },
      "source": [
        "r1 / r2"
      ],
      "execution_count": null,
      "outputs": []
    },
    {
      "cell_type": "markdown",
      "metadata": {
        "id": "ZBGlv6kIS1fq"
      },
      "source": [
        "#### **Constantes y Símbolos Especiales**\n",
        "\n",
        "SymPy proporciona símbolos predefinidos para varias constantes matemáticas y objetos especiales, como la unidad imaginaria i e infinito. Estos se resumen a continuación, junto con sus símbolos correspondientes en SymPy. Tenga en cuenta en particular que la unidad imaginaria se escribe como I en SymPy.\n",
        "\n",
        "**Constantes matemáticas seleccionadas y símbolos especiales y sus símbolos correspondientes en SymPy**\n",
        "\n",
        "1.   $\\pi$: **sympy.pi**. Relación de la circunferencia al diámetro de un círculo.\n",
        "2.   $\\epsilon$: **sympy.E**. La base del logaritmo natural $e = exp(1)$.\n",
        "3.   $\\gamma$: **sympy.EulerGamma**. La constante de Euler.\n",
        "4.   $i$: **sympy.I**. La unidad imaginaria.\n",
        "5.   $\\infty$: **sympy.oo**. Infinito."
      ]
    },
    {
      "cell_type": "markdown",
      "metadata": {
        "id": "QrzT28A4VXgH"
      },
      "source": [
        "#### **Funciones**\n",
        "\n",
        "En SymPy, los objetos que representan funciones se pueden crear con **sympy.Function**. Al igual que Symbol, este objeto Function toma un nombre como primer argumento. SymPy distingue entre **funciones definidas y no definidas**, así como entre **funciones aplicadas y no aplicadas**. La creación de una función con **Function** da como resultado una función indefinida (abstracta) y no aplicada, que tiene un nombre pero no puede evaluarse porque su expresión o cuerpo no está definido. Tal función puede representar una función arbitraria de un número arbitrario de variables de entrada, ya que tampoco se ha aplicado a ningún símbolo particular o variable de entrada. Una función no aplicada se puede aplicar a un conjunto de símbolos de entrada que representan el dominio de la función llamando a la instancia de la función con esos símbolos como argumentos. (Aquí es importante tener en cuenta la distinción entre una función de Python o un objeto de Python invocable, como sympy.Function, y la función simbólica que representa una instancia de la clase sympy.Function.)\n",
        "\n",
        "El resultado sigue siendo una función no evaluada, pero que se ha aplicado a las variables de entrada especificadas y, por lo tanto, tiene un conjunto de variables dependientes. Como ejemplo de estos conceptos, considere la siguiente lista de códigos donde creamos una función indefinida f, que aplicamos al símbolo x, y otra función g, que aplicamos directamente al conjunto de símbolos x, y, z:"
      ]
    },
    {
      "cell_type": "code",
      "metadata": {
        "id": "azTAmVBTRpYN"
      },
      "source": [
        "x, y, z = sympy.symbols(\"x, y, z\")\n",
        "f = sympy.Function(\"f\")\n",
        "type(f)"
      ],
      "execution_count": null,
      "outputs": []
    },
    {
      "cell_type": "code",
      "metadata": {
        "id": "0Aoj3hVFRpcA"
      },
      "source": [
        "x, y, z = sympy.symbols(\"x, y, z\")\n",
        "f(x), f(y), f(z)"
      ],
      "execution_count": null,
      "outputs": []
    },
    {
      "cell_type": "code",
      "metadata": {
        "id": "uD8HacAiRpgW"
      },
      "source": [
        "g = sympy.Function(\"g\")(x, y, z)\n",
        "g"
      ],
      "execution_count": null,
      "outputs": []
    },
    {
      "cell_type": "code",
      "metadata": {
        "id": "4_ZmJGehRpjr"
      },
      "source": [
        "g.free_symbols"
      ],
      "execution_count": null,
      "outputs": []
    },
    {
      "cell_type": "markdown",
      "metadata": {
        "id": "wZIJLFI6YawW"
      },
      "source": [
        "Aquí también hemos utilizado la propiedad **free_symbols**, que devuelve un conjunto de símbolos únicos contenidos en una expresión dada (en este caso, la función indefinida aplicada g), para demostrar que una función aplicada está asociada con un conjunto específico de símbolos de entrada. Esto será importante más adelante en este capítulo, para ejemplos cuando consideramos derivadas de funciones abstractas. Una aplicación importante de las funciones indefinidas es para especificar ecuaciones diferenciales o, en otras palabras, cuando se conoce una ecuación para la función, pero la función en sí misma es desconocida.\n",
        "\n",
        "A diferencia de las funciones indefinidas, una función definida es aquella que tiene una implementación específica y puede evaluarse numéricamente para todos los parámetros de entrada válidos. Es posible definir este tipo de función, por ejemplo, subclasificando sympy.Function, pero en la mayoría de los casos es suficiente usar las funciones matemáticas proporcionadas por SymPy. Naturalmente, SymPy tiene funciones integradas para muchas funciones matemáticas estándar que están disponibles en el espacio de nombres global de SymPy (consulte la documentación del módulo para sympy.functions.elementary, sympy.functions.combinatorial y sympy.functions.special y sus submódulos para obtener información completa listas de las numerosas funciones disponibles, utilizando la función de ayuda de Python). Por ejemplo, la función SymPy para la función seno está disponible como sympy.sin (con nuestra convención de importación). Tenga en cuenta que esta no es una función en el sentido Python de la palabra (es, de hecho, una subclase de sympy.Function), y representa una función seno no evaluada que puede aplicarse a un valor numérico, un símbolo o un expresión."
      ]
    },
    {
      "cell_type": "code",
      "metadata": {
        "id": "nKAOlgl1Rpnj"
      },
      "source": [
        "sympy.sin"
      ],
      "execution_count": null,
      "outputs": []
    },
    {
      "cell_type": "code",
      "metadata": {
        "id": "uIaYp9-IRprE"
      },
      "source": [
        "x = sympy.Symbol(\"x\")\n",
        "sympy.sin(x)"
      ],
      "execution_count": null,
      "outputs": []
    },
    {
      "cell_type": "code",
      "metadata": {
        "id": "TwL8STz0Rpu0"
      },
      "source": [
        "sympy.sin(pi * 1.5)"
      ],
      "execution_count": null,
      "outputs": []
    },
    {
      "cell_type": "markdown",
      "metadata": {
        "id": "40N8UE5Xc17k"
      },
      "source": [
        "Cuando se aplica a un símbolo abstracto, como x, la función sin permanece sin evaluar, pero cuando es posible se evalúa a un valor numérico, por ejemplo, cuando se aplica a un número, o en algunos casos cuando se aplica a expresiones con ciertas propiedades, como en el siguiente ejemplo:"
      ]
    },
    {
      "cell_type": "code",
      "metadata": {
        "id": "5jtNnigsRpye"
      },
      "source": [
        "n = sympy.Symbol(\"n\", integer=True)\n",
        "sympy.sin(pi * n)"
      ],
      "execution_count": null,
      "outputs": []
    },
    {
      "cell_type": "markdown",
      "metadata": {
        "id": "F0OtgdtedCb2"
      },
      "source": [
        "Un tercer tipo de función en SymPy son las funciones lambda, o funciones anónimas, que no tienen nombres asociados con ellas, pero tienen un cuerpo de función específico que puede evaluarse. Las funciones de Lambda se pueden crear con sympy.Lambda:"
      ]
    },
    {
      "cell_type": "code",
      "metadata": {
        "id": "5Cm7CDidRp18"
      },
      "source": [
        "h = sympy.Lambda(x, x**2)\n",
        "h"
      ],
      "execution_count": null,
      "outputs": []
    },
    {
      "cell_type": "code",
      "metadata": {
        "id": "HyPcmqtfdhTS"
      },
      "source": [
        "h(5)"
      ],
      "execution_count": null,
      "outputs": []
    },
    {
      "cell_type": "code",
      "metadata": {
        "id": "zGbXsIoORp5Q"
      },
      "source": [
        "h(1 + x)"
      ],
      "execution_count": null,
      "outputs": []
    },
    {
      "cell_type": "markdown",
      "metadata": {
        "id": "GOUiYKMEddrc"
      },
      "source": [
        "#### **Expresiones**\n",
        "\n",
        "Los diversos símbolos introducidos en la sección anterior son los bloques de construcción fundamentales necesarios para expresar expresiones matemáticas. En SymPy, las expresiones matemáticas se representan como árboles donde las hojas son símbolos y los nodos son instancias de clase que representan operaciones matemáticas. Ejemplos de estas clases son Add, Mul y Pow para operadores aritméticos básicos, y Sum, Producto, Integral y Derivada, para operaciones matemáticas analíticas. Además, hay muchas otras clases para operaciones matemáticas, de las que veremos más ejemplos más adelante en este capítulo.\n",
        "\n",
        "Considere, por ejemplo, la expresión matemática 1 + 2 x 2 + 3 x 3. Para representar esto en SymPy, solo necesitamos crear el símbolo x, y luego escribir la expresión como código Python:"
      ]
    },
    {
      "cell_type": "code",
      "metadata": {
        "id": "p_gGF3wcRp8_"
      },
      "source": [
        "x = sympy.Symbol(\"x\")\n",
        "expr = 1 + 2 * x**2 + 3 * x**3\n",
        "expr"
      ],
      "execution_count": null,
      "outputs": []
    },
    {
      "cell_type": "markdown",
      "metadata": {
        "id": "QzEw7P3AedTL"
      },
      "source": [
        "Tenga en cuenta que no necesitamos construir explícitamente la expresión, ya que se construye automáticamente a partir de la expresión con símbolos y operadores.\n",
        "\n",
        "El árbol de expresión se puede atravesar explícitamente utilizando el atributo **args**, que todas las operaciones SymPy y los símbolos proporcionan Para un operador, el atributo args es una tupla de subexpresiones que se combinan con regla implementada por la clase de operador. Para los símbolos, el atributo args es una tupla vacía, lo que significa que es una hoja en el árbol de expresión. El siguiente ejemplo demuestra cómo puede ser el árbol de expresión Accedido explícitamente:"
      ]
    },
    {
      "cell_type": "code",
      "metadata": {
        "id": "FllVRZUpRqAn"
      },
      "source": [
        "expr.args"
      ],
      "execution_count": null,
      "outputs": []
    },
    {
      "cell_type": "code",
      "metadata": {
        "id": "xuwB5YgpRqEJ"
      },
      "source": [
        "expr.args[1]"
      ],
      "execution_count": null,
      "outputs": []
    },
    {
      "cell_type": "code",
      "metadata": {
        "id": "8dp3mzOvRqHf"
      },
      "source": [
        "expr.args[1].args[1]"
      ],
      "execution_count": null,
      "outputs": []
    },
    {
      "cell_type": "code",
      "metadata": {
        "id": "EzCSuEHmRqLA"
      },
      "source": [
        "expr.args[1].args[1].args[0]"
      ],
      "execution_count": null,
      "outputs": []
    },
    {
      "cell_type": "code",
      "metadata": {
        "id": "4LYCk61oRqPf"
      },
      "source": [
        "expr.args[1].args[1].args[0].args"
      ],
      "execution_count": null,
      "outputs": []
    },
    {
      "cell_type": "markdown",
      "metadata": {
        "id": "iUWKbWSryrD8"
      },
      "source": [
        "En el uso básico de SymPy rara vez es necesario manipular explícitamente los árboles de expresión, pero cuando los métodos para manipular las expresiones que se presentan en la siguiente sección no son suficientes, es útil poder implementar funciones propias que atraviesen y manipulen árbol de expresión utilizando el atributo args."
      ]
    },
    {
      "cell_type": "markdown",
      "metadata": {
        "id": "3rRSoDeHy_JP"
      },
      "source": [
        "#### **Manipulando Expresiones**\n",
        "\n",
        "La manipulación de árboles de expresiones es uno de los principales trabajos para SymPy, y se proporcionan numerosas funciones para diferentes tipos de transformaciones. La idea general es que los árboles de expresión se pueden transformar entre formas matemáticamente equivalentes utilizando funciones de simplificación y reescritura. Estas funciones generalmente\n",
        "no cambie la expresión que se pasa a las funciones, sino que crea una nueva expresión que corresponde a la expresión modificada. Por lo tanto, las expresiones en SymPy deben considerarse objetos inmutables (que no se pueden cambiar). Todas las funciones que consideramos en esta sección tratan las expresiones SymPy como objetos inmutables y devuelven nuevos árboles de expresión en lugar de modificar las expresiones en su lugar."
      ]
    },
    {
      "cell_type": "markdown",
      "metadata": {
        "id": "-2E51cq2za92"
      },
      "source": [
        "#### **Simplificación**\n",
        "\n",
        "La manipulación más deseable de una expresión matemática es simplificarla. Esta es quizás y también la operación más ambigua, ya que no es trivial determinar algorítmicamente si una expresión parece más simple que otra para un ser humano, y en general tampoco es obvio qué métodos deberían emplearse para llegar a una expresión más simple. Sin embargo, la simplificación de recuadro negro es una parte importante de cualquier CAS, y SymPy incluye la función sympy.simplify que intenta simplificar una expresión dada usando una variedad de métodos y enfoques. La función de simplificación también se puede invocar a través del método simplificar, como se ilustra en el siguiente ejemplo."
      ]
    },
    {
      "cell_type": "code",
      "metadata": {
        "id": "1_HPLhNPRqSL"
      },
      "source": [
        "x = sympy.Symbol(\"x\")\n",
        "expr = 2 * (x**2 - x) - x * (x + 1)\n",
        "expr"
      ],
      "execution_count": null,
      "outputs": []
    },
    {
      "cell_type": "code",
      "metadata": {
        "id": "QSRUWUSwRqWw"
      },
      "source": [
        "sympy.simplify(expr)"
      ],
      "execution_count": null,
      "outputs": []
    },
    {
      "cell_type": "code",
      "metadata": {
        "id": "j_PvOWm2RqZj"
      },
      "source": [
        "expr.simplify()"
      ],
      "execution_count": null,
      "outputs": []
    },
    {
      "cell_type": "code",
      "metadata": {
        "id": "Ry1NB_qQRqdX"
      },
      "source": [
        "expr"
      ],
      "execution_count": null,
      "outputs": []
    },
    {
      "cell_type": "markdown",
      "metadata": {
        "id": "G9OPxNFMYg1m"
      },
      "source": [
        "Tenga en cuenta que aquí **sympy.simplify(expr)** y **expr.simplify()** devuelven nuevos árboles de expresión y dejan la expresión **expr** intacta, como se mencionó anteriormente. En este ejemplo, la expresión **expr** se puede simplificar expandiendo los productos, cancelando términos y luego factorizando la expresión nuevamente. En general, **sympy.simplify** intentará una variedad de estrategias diferentes y también simplificará, por ejemplo, las expresiones trigonométricas y de poder, como se ejemplifica aquí:"
      ]
    },
    {
      "cell_type": "code",
      "metadata": {
        "id": "k1BETadtRqgw"
      },
      "source": [
        "expr = 2 * sympy.cos(x) * sympy.sin(x)\n",
        "expr"
      ],
      "execution_count": null,
      "outputs": []
    },
    {
      "cell_type": "code",
      "metadata": {
        "id": "5EOX8mjcRqk6"
      },
      "source": [
        "sympy.simplify(expr)"
      ],
      "execution_count": null,
      "outputs": []
    },
    {
      "cell_type": "code",
      "metadata": {
        "id": "ODUtwICVRqpi"
      },
      "source": [
        "y = sympy.Symbol(\"y\")\n",
        "expr = sympy.exp(x) * sympy.exp(y)\n",
        "expr"
      ],
      "execution_count": null,
      "outputs": []
    },
    {
      "cell_type": "code",
      "metadata": {
        "id": "m0XQmYvfRqsq"
      },
      "source": [
        "sympy.simplify(expr)"
      ],
      "execution_count": null,
      "outputs": []
    },
    {
      "cell_type": "markdown",
      "metadata": {
        "id": "zvMGPK3paz6Z"
      },
      "source": [
        "Cada tipo específico de simplificación también se puede llevar a cabo con funciones más especializadas, como sympy.trigsimp y sympy.powsimp, para simplificaciones trigonométricas y de potencia, respectivamente. Estas funciones solo realizan la simplificación que indican sus nombres y dejan otras partes de una expresión en su forma original. En la tabla 3-3 se proporciona un resumen de las funciones de simplificación. Cuando se conocen los pasos exactos de simplificación, en general es mejor confiar en las funciones de simplificación más específicas, ya que sus acciones están más bien definidas y es menos probable que cambien en futuras versiones de SymPy. La función sympy.simplify, por otro lado, se basa en enfoques heurísticos que pueden cambiar en el futuro y, como consecuencia, producen resultados diferentes para una expresión de entrada particular.\n",
        "\n",
        "**Resumen de funciones seleccionadas de SymPy para simplificar expresiones**\n",
        "\n",
        "+ **sympy.simplify**. Intenta varios métodos y enfoques para obtener una forma más simple de una expresión dada.\n",
        "+ **sympy.trigsimp**. Intenta simplificar una expresión usando identidades trigonométricas.\n",
        "+ **sympy.powsimp**. Intenta simplificar una expresión usando ley de potencia.\n",
        "+ **sympy.compsimp**. Simplifica expresiones combinatorias.\n",
        "+ **sympy.ratsimp**. Simplifica una expresión escribiendo en un denominador común."
      ]
    },
    {
      "cell_type": "markdown",
      "metadata": {
        "id": "BNmRhfFrc_hV"
      },
      "source": [
        "#### **Expandir**\n",
        "\n",
        "Cuando la simplificación black-box proporcionada por **sympy.simplify** no produce resultados satisfactorios, a menudo es posible avanzar guiando manualmente SymPy utilizando operaciones algebraicas más específicas. Una herramienta importante en este proceso es expandir la expresión de varias maneras. La función **sympy.expand** realiza una variedad de expansiones, dependiendo de los valores de los argumentos opcionales de palabras clave. Por defecto, la función distribuye productos sobre adiciones, en una expresión completamente expandida. Por ejemplo, un producto del tipo $(x + 1) (x + 2)$ puede expandirse a $x^2 + 3 x + 2$ usando:"
      ]
    },
    {
      "cell_type": "code",
      "metadata": {
        "id": "nsSHmL6fRqwx"
      },
      "source": [
        "x = sympy.Symbol(\"x\")\n",
        "expr = (x + 1) * (x + 2)\n",
        "expr"
      ],
      "execution_count": null,
      "outputs": []
    },
    {
      "cell_type": "code",
      "metadata": {
        "id": "k7vRHwkTXU0C"
      },
      "source": [
        "sympy.expand(expr)"
      ],
      "execution_count": null,
      "outputs": []
    },
    {
      "cell_type": "markdown",
      "metadata": {
        "id": "drQ46i4_fiHX"
      },
      "source": [
        "Algunos de los argumentos disponibles son **mul = True** para expandir productos (como en el ejemplo anterior), **trig = True** para expansiones trigonométricas,"
      ]
    },
    {
      "cell_type": "code",
      "metadata": {
        "id": "4BDmbBiFRq0y"
      },
      "source": [
        "sympy.sin(x + y).expand(trig=True)"
      ],
      "execution_count": null,
      "outputs": []
    },
    {
      "cell_type": "code",
      "metadata": {
        "id": "HX__aHHdRq4u"
      },
      "source": [
        "sympy.sin(x + y).expand()"
      ],
      "execution_count": null,
      "outputs": []
    },
    {
      "cell_type": "markdown",
      "metadata": {
        "id": "PUgL07Saf-ll"
      },
      "source": [
        "**log = True** para expandir logaritmos,"
      ]
    },
    {
      "cell_type": "code",
      "metadata": {
        "id": "xJi_ZjuNRq8f"
      },
      "source": [
        "a, b = sympy.symbols(\"a, b\", positive=True)\n",
        "sympy.log(a * b).expand(log=True)"
      ],
      "execution_count": null,
      "outputs": []
    },
    {
      "cell_type": "code",
      "metadata": {
        "id": "Of4u98JnRrA3"
      },
      "source": [
        "a, b = sympy.symbols(\"a, b\", positive=True)\n",
        "sympy.log(a * b).expand(log=False)"
      ],
      "execution_count": null,
      "outputs": []
    },
    {
      "cell_type": "markdown",
      "metadata": {
        "id": "zZi-0kPPhWZV"
      },
      "source": [
        "**complex=True** para separar partes reales e imaginarias de una expresión,"
      ]
    },
    {
      "cell_type": "code",
      "metadata": {
        "id": "3rdVr0a1RrEn"
      },
      "source": [
        "sympy.exp(sympy.I*a + b).expand(complex=True)"
      ],
      "execution_count": null,
      "outputs": []
    },
    {
      "cell_type": "code",
      "metadata": {
        "id": "oBbsBUNohibl"
      },
      "source": [
        "sympy.exp(sympy.I*a + b).expand(complex=False)"
      ],
      "execution_count": null,
      "outputs": []
    },
    {
      "cell_type": "markdown",
      "metadata": {
        "id": "dCvGqOUYh_F2"
      },
      "source": [
        "y **power_base = True** y **power_exp = True** para expandir la base y el exponente de una expresión de poder, respectivamente."
      ]
    },
    {
      "cell_type": "code",
      "metadata": {
        "id": "tIXyt8_Rhif9"
      },
      "source": [
        "sympy.expand((a * b)**x, power_base=True)"
      ],
      "execution_count": null,
      "outputs": []
    },
    {
      "cell_type": "code",
      "metadata": {
        "id": "N4vJ8sGRhijx"
      },
      "source": [
        "sympy.expand((a * b)**x, power_base=False)"
      ],
      "execution_count": null,
      "outputs": []
    },
    {
      "cell_type": "code",
      "metadata": {
        "id": "iVxxbseYhios"
      },
      "source": [
        "sympy.exp((a-b)*x).expand(power_exp=True)"
      ],
      "execution_count": null,
      "outputs": []
    },
    {
      "cell_type": "code",
      "metadata": {
        "id": "CHfwQAFQhism"
      },
      "source": [
        "sympy.exp((a-b)*x).expand(power_exp=False)"
      ],
      "execution_count": null,
      "outputs": []
    },
    {
      "cell_type": "markdown",
      "metadata": {
        "id": "sR_1QcP-igrf"
      },
      "source": [
        "Llamar a la función **sympy.expand** con estos argumentos de palabras clave establecidos en True es equivalente a llamar a las funciones más específicas **sympy.expand_mul**, **sympy.expand_trig**, **sympy.expand_log**, **sympy.expand_complex**, **sympy.expand_power_base** y **sympy.expand_power_exp**, respectivamente, **sympy.expand_power_exp**, respectivamente. La ventaja de la función sympy.expand es que se pueden realizar varios tipos de expansiones en una sola llamada de función."
      ]
    },
    {
      "cell_type": "markdown",
      "metadata": {
        "id": "vzyKtX1RkLtA"
      },
      "source": [
        "#### **Factor, Collect, y Combine**\n",
        "\n",
        "Un patrón de uso común para la función sympy.expand es expandir una expresión, dejar que SymPy cancele términos o factores, y luego factorizar o combinar la expresión nuevamente. La función **sympy.factor** intenta factorizar una expresión lo más posible y, en cierto sentido, es lo opuesto a **sympy.expand** con **mul = True**. Se puede usar para factorizar expresiones algebraicas, como:"
      ]
    },
    {
      "cell_type": "code",
      "metadata": {
        "id": "Rf6lPBf4hiwl"
      },
      "source": [
        "x = sympy.Symbol(\"x\")\n",
        "sympy.factor(x**2 - 1)"
      ],
      "execution_count": null,
      "outputs": []
    },
    {
      "cell_type": "code",
      "metadata": {
        "id": "PkLhka3Dhi1J"
      },
      "source": [
        "x = sympy.Symbol(\"x\")\n",
        "y = sympy.Symbol(\"y\")\n",
        "z = sympy.Symbol(\"z\")\n",
        "sympy.factor(x * sympy.cos(y) + sympy.sin(z) * x)"
      ],
      "execution_count": null,
      "outputs": []
    },
    {
      "cell_type": "markdown",
      "metadata": {
        "id": "iaNLYkIOl4Pi"
      },
      "source": [
        "El inverso de los otros tipos de expansiones en la sección anterior se puede realizar usando **sympy.trigsimp**, **sympy.powsimp** y **sympy.logcombine**, por ejemplo:"
      ]
    },
    {
      "cell_type": "code",
      "metadata": {
        "id": "CK8jpF-Shi5h"
      },
      "source": [
        "a,b = sympy.symbols([\"a\",\"b\"])\n",
        "sympy.logcombine(sympy.log(a) - sympy.log(b))"
      ],
      "execution_count": null,
      "outputs": []
    },
    {
      "cell_type": "markdown",
      "metadata": {
        "id": "97yEn43gqBwJ"
      },
      "source": [
        "Cuando se trabaja con expresiones matemáticas, a menudo es necesario tener un control detallado sobre la factorización. La función de SymPy **sympy.collect** factoriza términos que contienen un símbolo dado o una lista de símbolos. Por ejemplo, $$x + y + xyz$$ no se pueden factorizar por completo, pero podemos factorizar parcialmente que los términos contienen x o y:"
      ]
    },
    {
      "cell_type": "code",
      "metadata": {
        "id": "hM4ZuShWRrH-"
      },
      "source": [
        "expr = x + y + x * y * z\n",
        "expr.collect(x)"
      ],
      "execution_count": null,
      "outputs": []
    },
    {
      "cell_type": "code",
      "metadata": {
        "id": "ZGMrHAXLRrLv"
      },
      "source": [
        "expr.collect(y)"
      ],
      "execution_count": null,
      "outputs": []
    },
    {
      "cell_type": "markdown",
      "metadata": {
        "id": "Mf4N0S00riki"
      },
      "source": [
        "Al pasar una lista de símbolos o expresiones a la función **sympy.collect** o al método de recopilación correspondiente, podemos recopilar varios símbolos en una llamada de función. Además, cuando se utiliza el método collect, que devuelve la nueva expresión, es posible encadenar varias llamadas a métodos de la siguiente manera:"
      ]
    },
    {
      "cell_type": "code",
      "metadata": {
        "id": "TNEBXAg5RrPS"
      },
      "source": [
        "expr = sympy.cos(x + y) + sympy.sin(x - y)\n",
        "expr.expand(trig=True).collect([sympy.cos(x),\n",
        "                                sympy.sin(x)]).collect(sympy.cos(y) - sympy.sin(y))"
      ],
      "execution_count": null,
      "outputs": []
    },
    {
      "cell_type": "markdown",
      "metadata": {
        "id": "8eegqkJDshnn"
      },
      "source": [
        "#### **Apart, Together, y Cancel**\n",
        "\n",
        "El último tipo de simplificación matemática que consideraremos aquí es la reescritura de fracciones. Las funciones sympy.apart y sympy.together, que, respectivamente, reescriben una fracción como fracción parcial y combinan fracciones parciales en una sola fracción, se pueden utilizar de la siguiente manera:"
      ]
    },
    {
      "cell_type": "code",
      "metadata": {
        "id": "r2JpNNAlRrTi"
      },
      "source": [
        "sympy.apart(1/(x**2 + 3*x + 2), x)"
      ],
      "execution_count": null,
      "outputs": []
    },
    {
      "cell_type": "code",
      "metadata": {
        "id": "oo7dVnxTtjAB"
      },
      "source": [
        "sympy.together(1 / (y * x + y) + 1 / (1+x))"
      ],
      "execution_count": null,
      "outputs": []
    },
    {
      "cell_type": "code",
      "metadata": {
        "id": "dRdqD_SxtjEe"
      },
      "source": [
        "sympy.cancel(y / (y * x + y))"
      ],
      "execution_count": null,
      "outputs": []
    },
    {
      "cell_type": "markdown",
      "metadata": {
        "id": "SRyFj6sAusIQ"
      },
      "source": [
        "En el primer ejemplo usamos **sympy.apart** para reescribir la expresión $(x^2 + 3x + 2)^{-1}$ como la fracción parcial de $$-\\frac{1}{x+2}+\\frac{1}{x+1}$$ y usamos **sympy.together** para combinar la suma de fracciones $\\frac{1}{(yx + y)} + \\frac{1}{(1 + x)}$ en una\n",
        "expresión en forma de una sola fracción. En este ejemplo, también usamos la función **sympy.cancel** para cancelar\n",
        "factores compartidos entre el numerador y el denominador en la expresión $y / (yx + y)$."
      ]
    },
    {
      "cell_type": "markdown",
      "metadata": {
        "id": "FeJqgGmSxlIJ"
      },
      "source": [
        "#### **Sustituciones**\n",
        "\n",
        "Las secciones anteriores se han ocupado de reescribir expresiones usando varias identidades matemáticas. Otra forma de manipulación de expresiones matemáticas utilizada con frecuencia es la sustitución de símbolos o subexpresiones dentro de una expresión. Por ejemplo, es posible que deseemos realizar una sustitución de variable y reemplazar la variable x con y, o reemplazar un símbolo con otra expresión. En SymPy hay dos métodos para realizar sustituciones: subs y replace. Por lo general, subs es la alternativa más adecuada, pero en algunos casos replace proporciona una herramienta más poderosa que, por ejemplo, puede hacer reemplazos basados ​​en expresiones comodín (vea docstring para sympy.Symbol.replace para más detalles).\n",
        "\n",
        "En el uso más básico de subs, el método se llama a una expresión y el símbolo o expresión que se va a reemplazar (x) se da como primer argumento, y el nuevo símbolo o la expresión (y) se da como segundo argumento. El resultado es que todas las apariciones de x en la expresión se reemplazan con y:"
      ]
    },
    {
      "cell_type": "code",
      "metadata": {
        "id": "RFMPNfUrtjI9"
      },
      "source": [
        "(x + y).subs(x, y)"
      ],
      "execution_count": null,
      "outputs": []
    },
    {
      "cell_type": "code",
      "metadata": {
        "id": "_qYONVWPtjNd"
      },
      "source": [
        "sympy.sin(x * sympy.exp(x)).subs(x, y)"
      ],
      "execution_count": null,
      "outputs": []
    },
    {
      "cell_type": "markdown",
      "metadata": {
        "id": "4mHOJB7VyUjh"
      },
      "source": [
        "En lugar de encadenar múltiples llamadas de subs cuando se requieren múltiples sustituciones, alternativamente podemos pasar un diccionario como primer y único argumento a subs, que asigna símbolos o expresiones antiguas a nuevos símbolos o expresiones:"
      ]
    },
    {
      "cell_type": "code",
      "metadata": {
        "id": "t_GmL0zVtjRv"
      },
      "source": [
        "sympy.sin(x * z).subs({z: sympy.exp(y), x: y, sympy.sin: sympy.cos})"
      ],
      "execution_count": null,
      "outputs": []
    },
    {
      "cell_type": "markdown",
      "metadata": {
        "id": "_MemGD4nzQcz"
      },
      "source": [
        "Una aplicación típica del método subs es sustituir los valores numéricos en lugar del número simbólico por una evaluación numérica. Una forma conveniente de hacerlo es definir un diccionario que traduzca los símbolos a valores numéricos y pasar este diccionario como argumento al método subs. Por ejemplo, considere:"
      ]
    },
    {
      "cell_type": "code",
      "metadata": {
        "id": "Lo0AUiL6tjVl"
      },
      "source": [
        "expr = x * y + z**2 *x\n",
        "values = {x: 1.25, y: 0.4, z: 3.2}\n",
        "expr.subs(values)"
      ],
      "execution_count": null,
      "outputs": []
    },
    {
      "cell_type": "markdown",
      "metadata": {
        "id": "dFDx3GLIzrxf"
      },
      "source": [
        "#### **Evaluación Numérica**\n",
        "\n",
        "Incluso cuando se trabaja con matemática simbólica, es casi siempre necesario tarde o temprano evaluar las expresiones simbólicas numéricamente, por ejemplo, cuando se producen tramas o resultados numéricos concretos. Una expresión SymPy se puede evaluar utilizando la función **sympy.N** o el método **evalf** de las instancias de expresión SymPy:"
      ]
    },
    {
      "cell_type": "code",
      "metadata": {
        "id": "YN4zhssbtjZl"
      },
      "source": [
        "sympy.N(1 + sympy.pi)"
      ],
      "execution_count": null,
      "outputs": []
    },
    {
      "cell_type": "code",
      "metadata": {
        "id": "1bXs0zWItjda"
      },
      "source": [
        "sympy.N(sympy.pi, 50)"
      ],
      "execution_count": null,
      "outputs": []
    },
    {
      "cell_type": "code",
      "metadata": {
        "id": "VcTqVrJotjhV"
      },
      "source": [
        "(x + 1/sympy.pi).evalf(10)"
      ],
      "execution_count": null,
      "outputs": []
    },
    {
      "cell_type": "markdown",
      "metadata": {
        "id": "0golVs620bjg"
      },
      "source": [
        "Tanto sympy.N como el método evalf toman un argumento opcional que especifica el número de dígitos significativos a los que se va a evaluar la expresión, como se muestra en el ejemplo anterior, donde se aprovecharon las capacidades flotantes de multiprecisión de SymPy para evaluar el valor de p hasta 50 dígitos\n",
        "\n",
        "Cuando necesitamos evaluar una expresión numéricamente para un rango de valores de entrada, en principio podríamos recorrer los valores y realizar sucesivas llamadas de evaluación, por ejemplo:"
      ]
    },
    {
      "cell_type": "code",
      "metadata": {
        "id": "i1nwWOXftjlc"
      },
      "source": [
        "expr = sympy.sin(sympy.pi * x * sympy.exp(x))\n",
        "[expr.subs(x, xx).evalf(3) for xx in range(0, 10)]"
      ],
      "execution_count": null,
      "outputs": []
    },
    {
      "cell_type": "code",
      "metadata": {
        "id": "H7jcYeo9I-2l"
      },
      "source": [],
      "execution_count": null,
      "outputs": []
    },
    {
      "cell_type": "markdown",
      "metadata": {
        "id": "lVStSlfcJ88S"
      },
      "source": [
        "# Cálculo de Derivadas\n",
        "\n",
        "Derivadas La derivada de una función describe su tasa de cambio en un punto dado. En SymPy podemos calcular la derivada de una función usando sympy.diff, o alternativamente usando el método diff de instancias de expresión SymPy. Estas funciones toman como argumento un símbolo, o varios símbolos, respecto de los cuales se deriva la función o la expresión. Para representar la derivada de primer orden de una función abstracta f (x) con respecto ax, podemos d"
      ]
    },
    {
      "cell_type": "code",
      "metadata": {
        "id": "FghKD1sKKDuT"
      },
      "source": [
        "f = sympy.Function('f')(x)\n",
        "sympy.diff(f, x)    # equivalente a f.dif"
      ],
      "execution_count": null,
      "outputs": []
    },
    {
      "cell_type": "code",
      "metadata": {
        "id": "-Vufdjt4KVAe"
      },
      "source": [
        "f.diff()"
      ],
      "execution_count": null,
      "outputs": []
    },
    {
      "cell_type": "markdown",
      "metadata": {
        "id": "xiIOHiZ-Krtp"
      },
      "source": [
        "y para representar derivadas de orden superior, todo lo que tenemos que hacer es repetir el símbolo x en la lista de argumentos en la llamada a sympy.diff, o de manera equivalente, especificando un número entero como argumento después de un símbolo, que define el número de veces la expresión debe derivarse con respecto a ese sy"
      ]
    },
    {
      "cell_type": "code",
      "metadata": {
        "id": "RBhPI58GKiJZ"
      },
      "source": [
        "sympy.diff(f,x,x)"
      ],
      "execution_count": null,
      "outputs": []
    },
    {
      "cell_type": "code",
      "metadata": {
        "id": "Z-km37rYKU2r"
      },
      "source": [
        "sympy.diff(f, x, 3)       # equivalent to sympy.diff(f, x,)"
      ],
      "execution_count": null,
      "outputs": []
    },
    {
      "cell_type": "code",
      "metadata": {
        "id": "5LIUHp-fKUrL"
      },
      "source": [
        "sympy.diff(f,x,x,x)"
      ],
      "execution_count": null,
      "outputs": []
    },
    {
      "cell_type": "markdown",
      "metadata": {
        "id": "Y-tifP5_ik09"
      },
      "source": [
        "# **4. [Módulo numpy](https://numpy.org/)**\n",
        "\n",
        "NumPy es el paquete fundamental para la computación científica con Python. Contiene entre otras cosas:\n",
        "\n",
        "1. un poderoso objeto de matriz N-dimensional\n",
        "\n",
        "2. funciones sofisticadas (de transmisión)\n",
        "\n",
        "3. herramientas para integrar código C / C ++ y Fortran\n",
        "\n",
        "4. Álgebra lineal útil, transformada de Fourier y capacidades de números aleatorios\n",
        "\n",
        "Además de sus usos científicos obvios, NumPy también se puede utilizar como un contenedor eficiente multidimensional de datos genéricos. Se pueden definir tipos de datos arbitrarios. Esto permite que NumPy se integre sin problemas y rápidamente con una amplia variedad de bases de datos.\n",
        "\n",
        "NumPy tiene licencia bajo la licencia BSD , lo que permite su reutilización con pocas restricciones."
      ]
    },
    {
      "cell_type": "markdown",
      "metadata": {
        "id": "2agjyGtXZ1tg"
      },
      "source": [
        "# **PARA AMPLIAR CONCEPTOS**\n",
        "\n",
        "# PUEDE Crear un notebook de los siguientes temas:\n",
        "\n",
        "+ [Tutorial:Álgebra lineal en matrices n-dimensionales](https://runebook.dev/es/docs/numpy/user/tutorial-svd)\n",
        "+ [Inicio rápido de NumPy](https://numpy.org/doc/stable/user/quickstart.html)\n",
        "+ [NumPy: lo básico absoluto para principiantes](https://numpy.org/doc/stable/user/absolute_beginners.html)\n",
        "\n"
      ]
    },
    {
      "cell_type": "code",
      "source": [
        "import numpy as np\n",
        "dir(np)"
      ],
      "metadata": {
        "id": "ikpSm1Z9SLuM"
      },
      "execution_count": null,
      "outputs": []
    },
    {
      "cell_type": "markdown",
      "metadata": {
        "id": "YvVRqSDElZlI"
      },
      "source": [
        "#### **[Tutorial de inicio rápido con numpy](https://numpy.org/devdocs/user/quickstart.html)**\n",
        "\n",
        "Objetivos de aprendizaje\n",
        "\n",
        "1. Después de este tutorial, debería poder:\n",
        "\n",
        "2. Comprender la diferencia entre matrices de una, dos y n dimensiones en NumPy;\n",
        "\n",
        "3. Comprenda cómo aplicar algunas operaciones de álgebra lineal a matrices n-dimensionales sin usar bucles for;\n",
        "\n",
        "4. Comprender las propiedades del eje y la forma de las matrices n-dimensionales."
      ]
    },
    {
      "cell_type": "markdown",
      "metadata": {
        "id": "tTuNwsufouca"
      },
      "source": [
        "#### **Los fundamentos de NumPy**\n",
        "\n",
        "El objeto principal de NumPy es la matriz multidimensional homogénea. Es una tabla de elementos (generalmente números), todos del mismo tipo, indexados por una tupla de enteros no negativos. En NumPy las dimensiones se llaman ejes .\n",
        "\n",
        "Por ejemplo, las coordenadas de un punto en el espacio 3D [1, 2, 1] tienen un eje. Ese eje tiene 3 elementos, por lo que decimos que tiene una longitud de 3. En el ejemplo que se muestra a continuación, la matriz tiene 2 ejes. El primer eje tiene una longitud de 2, el segundo eje tiene una longitud de 3.\n",
        "\n",
        "[[ 1., 0., 0.],\n",
        " [ 0., 1., 2.]]\n",
        "\n",
        "Se llama a la clase de matriz de NumPy ndarray. También es conocido por el alias array. Tenga en cuenta que numpy.arrayno es lo mismo que la clase Standard Python Library array.array, que solo maneja matrices unidimensionales y ofrece menos funcionalidad. Los atributos más importantes de un ndarrayobjeto son:\n",
        "\n",
        "**ndarray.ndim**\n",
        "\n",
        "El número de ejes (dimensiones) de la matriz.\n",
        "\n",
        "**ndarray.shape**\n",
        "\n",
        "Las dimensiones de la matriz. Esta es una tupla de enteros que indica el tamaño de la matriz en cada dimensión. Para una matriz con n filas ym columnas, shapeserá (n,m). La longitud de la shapepor lo tanto tupla es el número de ejes, ndim.\n",
        "\n",
        "**ndarray.size**\n",
        "\n",
        "El número total de elementos de la matriz. Esto es igual al producto de los elementos de shape.\n",
        "\n",
        "**ndarray.dtype**\n",
        "\n",
        "Un objeto que describe el tipo de elementos en la matriz. Uno puede crear o especificar dtype's utilizando tipos estándar de Python. Además, NumPy proporciona tipos propios. numpy.int32, numpy.int16 y numpy.float64 son algunos ejemplos.\n",
        "\n",
        "**ndarray.itemsize**\n",
        "\n",
        "El tamaño en bytes de cada elemento de la matriz. Por ejemplo, una matriz de elementos de tipo float64tiene itemsize8 (= 64/8), mientras que uno de tipo complex32tiene itemsize4 (= 32/8). Es equivalente a ndarray.dtype.itemsize.\n",
        "\n",
        "**ndarray.data**\n",
        "\n",
        "el búfer que contiene los elementos reales de la matriz. Normalmente, no necesitaremos usar este atributo porque accederemos a los elementos en una matriz usando las funciones de indexación.\n",
        "\n",
        "**Un ejemplo con NumPy**"
      ]
    },
    {
      "cell_type": "code",
      "metadata": {
        "id": "oZmTV58xpJrv"
      },
      "source": [
        "import numpy as np\n",
        "a = np.arange(15)\n",
        "a = a.reshape(5, 3)\n",
        "a"
      ],
      "execution_count": null,
      "outputs": []
    },
    {
      "cell_type": "code",
      "metadata": {
        "id": "Ufch3VPfpMPf"
      },
      "source": [
        "a.shape"
      ],
      "execution_count": null,
      "outputs": []
    },
    {
      "cell_type": "code",
      "metadata": {
        "id": "mN9eysJEuQ7n"
      },
      "source": [
        "a.ndim"
      ],
      "execution_count": null,
      "outputs": []
    },
    {
      "cell_type": "code",
      "metadata": {
        "id": "neUnaf7LuTW7"
      },
      "source": [
        "a.dtype.name"
      ],
      "execution_count": null,
      "outputs": []
    },
    {
      "cell_type": "code",
      "metadata": {
        "id": "3qZVNlfbuV5u"
      },
      "source": [
        "a.itemsize"
      ],
      "execution_count": null,
      "outputs": []
    },
    {
      "cell_type": "code",
      "metadata": {
        "id": "wNB37vivuafp"
      },
      "source": [
        "a.size"
      ],
      "execution_count": null,
      "outputs": []
    },
    {
      "cell_type": "code",
      "metadata": {
        "id": "HY0PA2OZudc2"
      },
      "source": [
        "type(a)"
      ],
      "execution_count": null,
      "outputs": []
    },
    {
      "cell_type": "code",
      "metadata": {
        "id": "JxiSlqy3uibY"
      },
      "source": [
        "b = np.array([6, 7, 8])\n",
        "b"
      ],
      "execution_count": null,
      "outputs": []
    },
    {
      "cell_type": "code",
      "metadata": {
        "id": "UImy6NCkul5v"
      },
      "source": [
        "type(b)"
      ],
      "execution_count": null,
      "outputs": []
    },
    {
      "cell_type": "markdown",
      "metadata": {
        "id": "tKtETp0UN3LH"
      },
      "source": [
        "### **Consulte el módulo de algebra lineal la función qr() del módulo linalg**"
      ]
    },
    {
      "cell_type": "code",
      "metadata": {
        "id": "gWaGRVa4vALA"
      },
      "source": [
        "help(np.linalg.qr)"
      ],
      "execution_count": null,
      "outputs": []
    },
    {
      "cell_type": "markdown",
      "metadata": {
        "id": "RwwVwEl4uoog"
      },
      "source": [
        "#### **UN EJERCICIO DE ALGEBRA LINEAL: Función qr() del módulo np.linalg**\n",
        "\n",
        "[Factorización QR](https://es.wikipedia.org/wiki/Factorizaci%C3%B3n_QR)\n",
        "\n",
        "En álgebra lineal, la descomposición o factorización QR de una matriz es una descomposición de la misma como producto de una matriz ortogonal por una triangular superior. La descomposición QR es la base del algoritmo QR utilizado para el cálculo de los vectores y valores propios de una matriz.\n",
        "\n",
        "La sintaxis para la función qr() es la siguiente:\n",
        "\n",
        "**qr(a, mode='reduced')**\n",
        "\n",
        "Calcula la factorización **qr** de la matriz **a**.\n",
        "\n",
        "Factoriza la matriz `a` como **qr**, donde **q** es ortonormal y **r** es triangular superior\n",
        "    \n",
        "Puede pedir ayuda sobre la función qr con la orden:\n",
        "\n",
        "help(np.linalg.qr)"
      ]
    },
    {
      "cell_type": "code",
      "metadata": {
        "id": "zZc1RB6txqbz"
      },
      "source": [
        "import numpy as np\n",
        "a = np.random.randn(9, 6)\n",
        "a"
      ],
      "execution_count": null,
      "outputs": []
    },
    {
      "cell_type": "code",
      "metadata": {
        "id": "W5fjYCbLyJ7e"
      },
      "source": [
        "import numpy as np\n",
        "q, r = np.linalg.qr(a)\n",
        "\n",
        "q,r"
      ],
      "execution_count": null,
      "outputs": []
    },
    {
      "cell_type": "code",
      "metadata": {
        "id": "xSG-Xmj_yOR-"
      },
      "source": [
        "np.allclose(a, np.dot(q, r))  # a does equal qr True"
      ],
      "execution_count": null,
      "outputs": []
    },
    {
      "cell_type": "code",
      "metadata": {
        "id": "m5JJF8LcenkO"
      },
      "source": [
        "np.dot(q,r)"
      ],
      "execution_count": null,
      "outputs": []
    },
    {
      "cell_type": "code",
      "metadata": {
        "id": "1JO7s_ZmyRcV"
      },
      "source": [
        "r2 = np.linalg.qr(a, mode='r')\n",
        "np.allclose(r, r2)  # mode='r' returns the same r as mode='full' True"
      ],
      "execution_count": null,
      "outputs": []
    },
    {
      "cell_type": "code",
      "metadata": {
        "id": "zRXVQDV0yXdz"
      },
      "source": [
        "import numpy as np\n",
        "help(np.linalg.qr)"
      ],
      "execution_count": null,
      "outputs": []
    },
    {
      "cell_type": "markdown",
      "metadata": {
        "id": "6SuZdI8N2IHK"
      },
      "source": [
        "#### **UN EJEMPLO DEL USO DE qr**\n",
        "\n",
        "Un ejemplo que ilustra un uso común de la factorización **qr**, es la resolución de problemas de mínimos cuadrados:\n",
        "    \n",
        "¿Cuáles son los mejores mínimos cuadrados **$m$** y **$y_0$** en $y = y_0 + mx$ para los siguientes datos:\n",
        "\n",
        "{(0,1), (1,0), (1,2), (2,1)}.\n",
        "\n",
        "(Grafique los puntos y verá que debería ser $y_0 = 0$, $m = 1$) Se proporciona la respuesta resolviendo la ecuación matricial sobredeterminada $Ax = b$, donde:\n",
        "\n",
        "A = array([[0, 1], [1, 1], [1, 1], [2, 1]])\n",
        "\n",
        "x = array([[y0], [m]])\n",
        "\n",
        "b = array([[1], [0], [2], [1]])\n",
        "    \n",
        "Si A = qr tal que q es ortonormal (que siempre es posible a través de Gram-Schmidt), luego $x = inv(r) * (q.T) * b$\n",
        "\n",
        "(En la práctica numpy, sin embargo, simplemente usamos mínimos cuadrados)\n",
        "\n",
        "```\n",
        ">>> A = np.array([[0, 1], [1, 1], [1, 1], [2, 1]])\n",
        ">>> A\n",
        "\n",
        ">>> b = np.array([1, 0, 2, 1])\n",
        ">>> q, r = np.linalg.qr(A)\n",
        ">>> p = np.dot(q.T, b)\n",
        ">>> np.dot(np.linalg.inv(r), p)\n",
        "\n",
        "```"
      ]
    },
    {
      "cell_type": "code",
      "metadata": {
        "id": "DBhq8LbU4DkN"
      },
      "source": [
        "import numpy as np\n",
        "A = np.array([[0, 1], [1, 1], [1, 1], [2, 1]])\n",
        "A"
      ],
      "execution_count": null,
      "outputs": []
    },
    {
      "cell_type": "code",
      "metadata": {
        "id": "QxVVrJ2K3-AC"
      },
      "source": [
        "import numpy as np\n",
        "b = np.array([1, 0, 2, 1])\n",
        "b"
      ],
      "execution_count": null,
      "outputs": []
    },
    {
      "cell_type": "code",
      "metadata": {
        "id": "Rb2jgf5S4Jkm"
      },
      "source": [
        "q, r = np.linalg.qr(A)"
      ],
      "execution_count": null,
      "outputs": []
    },
    {
      "cell_type": "markdown",
      "metadata": {
        "id": "q7jV0N6LxdcN"
      },
      "source": [
        "$$\n",
        "y = a + bX + \\epsilon\n",
        "$$\n",
        "\n",
        "$$\n",
        "\\hat\\beta = (X^T.X)^{-1}X^T.y\n",
        "$$"
      ]
    },
    {
      "cell_type": "code",
      "metadata": {
        "id": "Ei59vCAK4OzB"
      },
      "source": [
        "p = np.dot(q.T, b)\n",
        "p"
      ],
      "execution_count": null,
      "outputs": []
    },
    {
      "cell_type": "code",
      "metadata": {
        "id": "LFM30AnL4Wft"
      },
      "source": [
        "np.dot(np.linalg.inv(r), p)"
      ],
      "execution_count": null,
      "outputs": []
    },
    {
      "cell_type": "markdown",
      "metadata": {
        "id": "nBAMrwfpufOA"
      },
      "source": [
        "# **5. [Matplotlib: visualización con Python](https://matplotlib.org/)**\n",
        "\n",
        "Matplotlib es una biblioteca completa para crear visualizaciones estáticas, animadas e interactivas en Python."
      ]
    },
    {
      "cell_type": "code",
      "source": [
        "import numpy as np\n",
        "import matplotlib.pyplot as plt\n",
        "\n",
        "# Fixing random state for reproducibility\n",
        "np.random.seed(19680801)\n",
        "\n",
        "# some random data\n",
        "x = np.random.randn(1000)\n",
        "y = np.random.randn(1000)\n",
        "\n",
        "plt.scatter(x,y)"
      ],
      "metadata": {
        "id": "sXuS23jbsHaE"
      },
      "execution_count": null,
      "outputs": []
    },
    {
      "cell_type": "code",
      "metadata": {
        "id": "bnh9KF_xy6vR"
      },
      "source": [
        "import numpy as np\n",
        "import matplotlib.pyplot as plt\n",
        "\n",
        "# Fixing random state for reproducibility\n",
        "np.random.seed(19680801)\n",
        "\n",
        "# some random data\n",
        "x = np.random.randn(1000)\n",
        "y = np.random.randn(1000)\n",
        "\n",
        "\n",
        "def scatter_hist(x, y, ax, ax_histx, ax_histy):\n",
        "    # no labels\n",
        "    ax_histx.tick_params(axis=\"x\", labelbottom=False)\n",
        "    ax_histy.tick_params(axis=\"y\", labelleft=False)\n",
        "\n",
        "    # the scatter plot:\n",
        "    ax.scatter(x, y)\n",
        "\n",
        "    # now determine nice limits by hand:\n",
        "    binwidth = 0.25\n",
        "    xymax = max(np.max(np.abs(x)), np.max(np.abs(y)))\n",
        "    lim = (int(xymax/binwidth) + 1) * binwidth\n",
        "\n",
        "    bins = np.arange(-lim, lim + binwidth, binwidth)\n",
        "    ax_histx.hist(x, bins=bins)\n",
        "    ax_histy.hist(y, bins=bins, orientation='horizontal')"
      ],
      "execution_count": null,
      "outputs": []
    },
    {
      "cell_type": "code",
      "metadata": {
        "id": "3hRTSLwxzEq8"
      },
      "source": [
        "# definitions for the axes\n",
        "left, width = 0.1, 0.65\n",
        "bottom, height = 0.1, 0.65\n",
        "spacing = 0.005\n",
        "\n",
        "\n",
        "rect_scatter = [left, bottom, width, height]\n",
        "rect_histx = [left, bottom + height + spacing, width, 0.2]\n",
        "rect_histy = [left + width + spacing, bottom, 0.2, height]\n",
        "\n",
        "# start with a square Figure\n",
        "fig = plt.figure(figsize=(8, 8))\n",
        "\n",
        "ax = fig.add_axes(rect_scatter)\n",
        "ax_histx = fig.add_axes(rect_histx, sharex=ax)\n",
        "ax_histy = fig.add_axes(rect_histy, sharey=ax)\n",
        "\n",
        "# use the previously defined function\n",
        "scatter_hist(x, y, ax, ax_histx, ax_histy)\n",
        "\n",
        "plt.show()"
      ],
      "execution_count": null,
      "outputs": []
    },
    {
      "cell_type": "code",
      "metadata": {
        "id": "Yh1AAJq3zSVJ"
      },
      "source": [
        "import numpy as np\n",
        "from scipy.interpolate import splprep, splev\n",
        "\n",
        "import matplotlib.pyplot as plt\n",
        "from matplotlib.path import Path\n",
        "from matplotlib.patches import PathPatch\n",
        "\n",
        "N = 400\n",
        "t = np.linspace(0, 2 * np.pi, N)\n",
        "r = 0.5 + np.cos(t)\n",
        "x, y = r * np.cos(t), r * np.sin(t)\n",
        "\n",
        "fig, ax = plt.subplots()\n",
        "ax.plot(x, y)\n",
        "plt.show()"
      ],
      "execution_count": null,
      "outputs": []
    },
    {
      "cell_type": "markdown",
      "metadata": {
        "id": "O_Z4WuV-w3Cx"
      },
      "source": [
        "#### Graficando con matplotlib\n",
        "\n",
        "**matplotlib.pyplot** es una interfaz a **matplotlib**. Proporciona una forma de trazar similar a MATLAB.\n",
        "\n",
        "**pyplot** está destinado principalmente a gráficos interactivos y casos simples de generación de gráficos programáticos:\n",
        "\n",
        "El siguiente es un código simple para generar una gráfica de la función seno:"
      ]
    },
    {
      "cell_type": "code",
      "source": [
        "import numpy as np\n",
        "x = np.arange(-2*np.pi,2*np.pi,1)\n",
        "x"
      ],
      "metadata": {
        "id": "7IAh_KuWtWMX"
      },
      "execution_count": null,
      "outputs": []
    },
    {
      "cell_type": "code",
      "metadata": {
        "id": "Dlx4jSlbzshN"
      },
      "source": [
        "import numpy as np\n",
        "import matplotlib.pyplot as plt\n",
        "\n",
        "x = np.arange(-6, 6, 0.01)\n",
        "y = np.sin(x)\n",
        "plt.plot(x, y)"
      ],
      "execution_count": null,
      "outputs": []
    },
    {
      "cell_type": "code",
      "source": [],
      "metadata": {
        "id": "4DtAiyjvtVYF"
      },
      "execution_count": null,
      "outputs": []
    },
    {
      "cell_type": "code",
      "metadata": {
        "id": "oYgqFNDCz1ec"
      },
      "source": [
        "import numpy as np\n",
        "import matplotlib.pyplot as plt\n",
        "\n",
        "x = np.arange(-2*np.pi, 2*np.pi,0.01)\n",
        "y = np.sin(x)\n",
        "y2 = np.cos(x)\n",
        "plt.plot(x,y)\n",
        "plt.plot(x,y2)"
      ],
      "execution_count": null,
      "outputs": []
    },
    {
      "cell_type": "markdown",
      "metadata": {
        "id": "GJcHJZJpzoM_"
      },
      "source": [
        "#### **EJEMPLOS ESPECIFICOS DE TIPOS DE GRAFICOS**\n",
        "\n",
        "A continuación se muestran los códigos para generar los tipos de gráficos más comunes:"
      ]
    },
    {
      "cell_type": "code",
      "source": [
        "a = np.linspace(0,10,10)\n",
        "a"
      ],
      "metadata": {
        "id": "7CnXEMJ0ur7b"
      },
      "execution_count": null,
      "outputs": []
    },
    {
      "cell_type": "code",
      "metadata": {
        "id": "C6dEUM-D2CCr"
      },
      "source": [
        "# Gráficos de lineas\n",
        "\n",
        "import matplotlib.pyplot as plt\n",
        "import numpy as np\n",
        "\n",
        "a = np.linspace(0,10,100)\n",
        "\n",
        "b = np.exp(-a)\n",
        "\n",
        "plt.plot(a,b)"
      ],
      "execution_count": null,
      "outputs": []
    },
    {
      "cell_type": "code",
      "metadata": {
        "id": "uKXG1D4_2M9i"
      },
      "source": [
        "# Histogramas\n",
        "\n",
        "import matplotlib.pyplot as plt\n",
        "from numpy.random import normal, rand\n",
        "\n",
        "x = normal(size=2000)\n",
        "\n",
        "plt.hist(x,bins=15)\n",
        "plt.show()"
      ],
      "execution_count": null,
      "outputs": []
    },
    {
      "cell_type": "code",
      "metadata": {
        "id": "Oxsr0Sri2gs8"
      },
      "source": [
        "# Scatter plot\n",
        "\n",
        "import matplotlib.pyplot as plt\n",
        "from numpy.random import rand\n",
        "a = rand(100)\n",
        "b = rand(100)\n",
        "plt.scatter(a,b)"
      ],
      "execution_count": null,
      "outputs": []
    },
    {
      "cell_type": "code",
      "metadata": {
        "id": "PJykO-0o2svk"
      },
      "source": [
        "# Gráficos 3D\n",
        "\n",
        "from matplotlib import cm\n",
        "\n",
        "from mpl_toolkits.mplot3d import Axes3D\n",
        "\n",
        "import matplotlib.pyplot as plt\n",
        "\n",
        "import numpy as np\n",
        "\n",
        "fig = plt.figure()\n",
        "ax = fig.gca(projection='3d')\n",
        "\n",
        "X = np.arange(-5, 5, 0.25)\n",
        "Y = np.arange(-5, 5, 0.25)\n",
        "\n",
        "X, Y = np.meshgrid(X, Y)\n",
        "R = np.sqrt(X**2 + Y**2)\n",
        "Z = np.sin(R)\n",
        "surf = ax.plot_surface(X, Y, Z, rstride=1, cstride=1, cmap=cm.coolwarm)"
      ],
      "execution_count": null,
      "outputs": []
    },
    {
      "cell_type": "markdown",
      "metadata": {
        "id": "S-SbFby13GcM"
      },
      "source": [
        "#### EJERCICIOS\n",
        "\n",
        "Grafique las siguientes funciones:\n",
        "\n",
        "* $y = a*ln(b*x)$\n",
        "* $y = a * exp(b*x)$\n",
        "* $y = sin(x), cos(x), tan(x)$\n",
        "* $y = a*xb$, Ley de potencia\n",
        "\n",
        "\tpara b = 0.5, 1, 2, -1\n",
        "\n",
        "* $y = a*x / (1 + b * x)$\n",
        "\n",
        "La distribución Normal\n",
        "$$\n",
        "f(x) = \\frac{1}{\\sqrt{2\\pi\\sigma}}\\exp{-\\frac{(x-\\mu)^2}{2\\sigma^2}}\n",
        "$$"
      ]
    },
    {
      "cell_type": "markdown",
      "metadata": {
        "id": "ajHa_hRY9bbt"
      },
      "source": [
        "#### **Funciones Matemáticas**\n",
        "\n",
        "Para los tipos de funciones que se encontrarán en la computación orientada hacia el Análisis de Datos, solo hay tres reglas matemáticas que debe aprender; se refieren a:\n",
        "1. **Potencias**. En la expresión $x^b$, la variable explicativa x se eleva a la potencia b.\n",
        "2. **Exponentes**. En la expresión $e^x$, la variable explicativa aparece como una potencia, en este caso especial, de e = 2 71828, de la cual x es el exponente.\n",
        "3. **Logaritmos**. El inverso de $e^x$ es el logaritmo de x, denotado por $log(x)$: tenga en cuenta que todos nuestros $log()$ están en la base e y que, para nosotros, escribir $log(x)$ es lo mismo que $ln(x)$.\n",
        "\n",
        "También es útil recordar algunos hechos matemáticos que son útiles para comprender el comportamiento de los límites. Nos gustaría saber qué le sucede a $y$ cuando $x$ se vuelve muy grande (por ejemplo, $x → \\infty$) y qué le sucede a y cuando x va a 0 (es decir, cuál es la intersección, si hay una). Estas son las reglas más importantes:\n",
        "\n",
        "1. Cualquier cosa a la potencia de cero es 1: $x^0 = 1$\n",
        "2. Uno elevado a cualquier potencia sigue siendo 1: $1^x = 1$\n",
        "3. Infinito más 1 es infinito: $\\infty + 1 = \\infty$\n",
        "4. Uno sobre el infinito (el recíproco del infinito, $\\infty^−1$) es cero: $\\frac{1}{\\infty} = 0$\n",
        "5. Un número mayor que 1 elevado a la potencia de infinito es infinito: $1.2^\\infty = \\infty$\n",
        "6. Una fracción (por ejemplo, 0,99) elevada a la potencia infinito es cero: $0.99^\\infty = 0$\n",
        "7. Las potencias negativas son recíprocas: $x^-b = \\frac{1}{x^b}$\n",
        "8. Los potencias fraccionarias son raíces: $x^{\\frac{1}{3}} = \\sqrt[3]{x}$\n",
        "9. La base de los logaritmos naturales, e, es 2.71828, entonces: $e^\\infty = \\infty$\n",
        "10. Último, pero quizás lo más útil: $e^-\\infty = \\frac{1}{e^\\infty} = \\frac{1}{\\infty} = 0$"
      ]
    },
    {
      "cell_type": "markdown",
      "metadata": {
        "id": "1zidyOVoGyOL"
      },
      "source": [
        "#### **Funciones logarítmicas**\n",
        "\n",
        "La función logarítmica está dada por:\n",
        "$$\n",
        "y=aln(bx)\n",
        "$$\n",
        "\n",
        "Aquí el logaritmo es base e. La función exponencial, en la que la respuesta y es el antilogaritmo de la variable explicativa continua x, está dada por\n",
        "\n",
        "$$\n",
        "y=a\\exp^{bx}\n",
        "$$\n",
        "\n",
        "Ambas funciones son funciones suaves, y para dibujar funciones suaves necesita generar una serie de 100 o más valores x espaciados regularmente entre min (x) y max (x):"
      ]
    },
    {
      "cell_type": "code",
      "metadata": {
        "id": "9VnzHtQb2-gv"
      },
      "source": [
        "import numpy as np\n",
        "import matplotlib.pyplot as plt\n",
        "\n",
        "x = np.arange(0,10,0.1)\n",
        "\n",
        "y1 = np.log(x)\n",
        "y2 = np.exp(-x)\n",
        "plt.plot(x,y1)"
      ],
      "execution_count": null,
      "outputs": []
    },
    {
      "cell_type": "code",
      "metadata": {
        "id": "7uFX4_j0n1uC"
      },
      "source": [
        "plt.plot(x,y2)"
      ],
      "execution_count": null,
      "outputs": []
    },
    {
      "cell_type": "code",
      "metadata": {
        "id": "94SI1_9cop1C"
      },
      "source": [],
      "execution_count": null,
      "outputs": []
    },
    {
      "cell_type": "markdown",
      "metadata": {
        "id": "0k4OfeaD42Lp"
      },
      "source": [
        "# MONTAR MI UNIDAD DE DRIVE EN LA SESIÓN DEL NOTEBOOK"
      ]
    },
    {
      "cell_type": "code",
      "metadata": {
        "id": "jAK1TJbx-3LU"
      },
      "source": [
        "from google.colab import drive\n",
        "drive.mount(\"drive\")"
      ],
      "execution_count": null,
      "outputs": []
    },
    {
      "cell_type": "code",
      "metadata": {
        "id": "wgXDoq1b2sme"
      },
      "source": [
        "import os\n",
        "os.getcwd()"
      ],
      "execution_count": null,
      "outputs": []
    },
    {
      "cell_type": "code",
      "source": [
        "import os\n",
        "# os.chdir()\n",
        "# Change the current working directory to the specified path."
      ],
      "metadata": {
        "id": "lHvUAEYEyRh4"
      },
      "execution_count": null,
      "outputs": []
    },
    {
      "cell_type": "code",
      "source": [
        "import pandas as pd"
      ],
      "metadata": {
        "id": "AvuZhMDUyucg"
      },
      "execution_count": null,
      "outputs": []
    },
    {
      "cell_type": "markdown",
      "metadata": {
        "id": "0cSO5Fvr1QlR"
      },
      "source": [
        "# **6. Manipulacion de archivos con pandas**\n",
        "\n",
        "+ [Pandas](https://pandas.pydata.org/)\n",
        "\n",
        "+ [Python for Data Analysis](https://bedford-computing.co.uk/learning/wp-content/uploads/2015/10/Python-for-Data-Analysis.pdf)\n",
        "\n",
        "+ [Tutoriales de Pandas](https://pandas.pydata.org/docs/user_guide/index.html)"
      ]
    },
    {
      "cell_type": "markdown",
      "metadata": {
        "id": "yhKBLMKo3XpG"
      },
      "source": [
        "# CARGAR ARCHIVOS DE EXCEL CON PANDAS"
      ]
    },
    {
      "cell_type": "code",
      "metadata": {
        "id": "4RF84RY43GbW"
      },
      "source": [
        "# importar pandas\n",
        "import pandas as pd"
      ],
      "execution_count": null,
      "outputs": []
    },
    {
      "cell_type": "code",
      "metadata": {
        "id": "dPlm4AVg3gfM"
      },
      "source": [
        "# Cargar un archivo de Excel con la función ExcelFile() de pandas\n",
        "archivo = pd.ExcelFile(\"/content/sample_data/DATOS_2021_SEM_2.xlsx\")"
      ],
      "execution_count": null,
      "outputs": []
    },
    {
      "cell_type": "code",
      "metadata": {
        "id": "uO681z9w3_SL"
      },
      "source": [
        "archivo"
      ],
      "execution_count": null,
      "outputs": []
    },
    {
      "cell_type": "code",
      "metadata": {
        "id": "H7ffP7w84Ene"
      },
      "source": [
        "# Miro las hojas de cálculo que tiene el archivo\n",
        "archivo.sheet_names"
      ],
      "execution_count": null,
      "outputs": []
    },
    {
      "cell_type": "code",
      "source": [
        "# Miro 'HUMEDADES'\n",
        "h = archivo.parse('HUMEDADES')\n",
        "h.head(n=4)"
      ],
      "metadata": {
        "id": "v1UmlFeC2KdL"
      },
      "execution_count": null,
      "outputs": []
    },
    {
      "cell_type": "code",
      "source": [
        "h.tail(n=7)"
      ],
      "metadata": {
        "id": "NCh_7SQo3eIu"
      },
      "execution_count": null,
      "outputs": []
    },
    {
      "cell_type": "code",
      "metadata": {
        "id": "OKD3ZUP34UzL"
      },
      "source": [
        "e = archivo.parse(sheet_name='EMBALAJES')\n",
        "e.head(3)"
      ],
      "execution_count": null,
      "outputs": []
    },
    {
      "cell_type": "code",
      "metadata": {
        "id": "CJCfieAu41gC"
      },
      "source": [
        "# Miro las columnas\n",
        "e.columns"
      ],
      "execution_count": null,
      "outputs": []
    },
    {
      "cell_type": "code",
      "source": [
        "e.columns = ['embalaje', 'tiempo', 'repeticiones', 'humedad', 'acidez',\n",
        "       'ss', 'rsolacid', 'car',\n",
        "       'lum', 'int', 'introjo',\n",
        "       'actagua', 'ph']"
      ],
      "metadata": {
        "id": "8QxfTSyq4Y41"
      },
      "execution_count": null,
      "outputs": []
    },
    {
      "cell_type": "code",
      "source": [
        "e.columns"
      ],
      "metadata": {
        "id": "lRtPrc9Y4pxK"
      },
      "execution_count": null,
      "outputs": []
    },
    {
      "cell_type": "code",
      "metadata": {
        "id": "9QbE22tX5KY7"
      },
      "source": [
        "type(e)"
      ],
      "execution_count": null,
      "outputs": []
    },
    {
      "cell_type": "code",
      "metadata": {
        "id": "lLkci0La5Y5E"
      },
      "source": [
        "e.info()"
      ],
      "execution_count": null,
      "outputs": []
    },
    {
      "cell_type": "code",
      "metadata": {
        "id": "IU8gDzXd5gkB"
      },
      "source": [
        "# Obtener cualquier columna\n",
        "e['ph']"
      ],
      "execution_count": null,
      "outputs": []
    },
    {
      "cell_type": "code",
      "source": [
        "e.ph"
      ],
      "metadata": {
        "id": "Oj4VhjDH5Gny"
      },
      "execution_count": null,
      "outputs": []
    },
    {
      "cell_type": "code",
      "metadata": {
        "id": "77NVHnoc5ysB"
      },
      "source": [
        "# crear un vector de ph\n",
        "ph = e.ph\n",
        "ph"
      ],
      "execution_count": null,
      "outputs": []
    },
    {
      "cell_type": "code",
      "metadata": {
        "id": "aAng_9tz5-U0"
      },
      "source": [
        "type(ph)"
      ],
      "execution_count": null,
      "outputs": []
    },
    {
      "cell_type": "code",
      "metadata": {
        "id": "_z0FibxB6XnC"
      },
      "source": [
        "# Pido información de los atributos de la matriz o sea del vector\n",
        "e.describe()"
      ],
      "execution_count": null,
      "outputs": []
    },
    {
      "cell_type": "code",
      "metadata": {
        "id": "FridLh8a6q1h"
      },
      "source": [
        "ph.describe()"
      ],
      "execution_count": null,
      "outputs": []
    },
    {
      "cell_type": "code",
      "metadata": {
        "id": "UrTenQBF6w9W"
      },
      "source": [
        "# Puedo graficar en pandas\n",
        "ph.plot.line()"
      ],
      "execution_count": null,
      "outputs": []
    },
    {
      "cell_type": "code",
      "metadata": {
        "id": "8ChrxjPa6_oZ"
      },
      "source": [
        "ph.plot.bar()"
      ],
      "execution_count": null,
      "outputs": []
    },
    {
      "cell_type": "code",
      "metadata": {
        "id": "owD91lX87EmD"
      },
      "source": [
        "ph.plot.barh()"
      ],
      "execution_count": null,
      "outputs": []
    },
    {
      "cell_type": "code",
      "metadata": {
        "id": "hNC-z_tf7QeS"
      },
      "source": [
        "ph.describe()"
      ],
      "execution_count": null,
      "outputs": []
    },
    {
      "cell_type": "code",
      "metadata": {
        "id": "f6g0Bxv77JkO"
      },
      "source": [
        "ph.plot.box()"
      ],
      "execution_count": null,
      "outputs": []
    },
    {
      "cell_type": "code",
      "metadata": {
        "id": "cWal40gq7O1T"
      },
      "source": [
        "ph.plot.hist()"
      ],
      "execution_count": null,
      "outputs": []
    },
    {
      "cell_type": "code",
      "metadata": {
        "id": "pa2Q0z9b8BUH"
      },
      "source": [
        "ph.plot.density()\n"
      ],
      "execution_count": null,
      "outputs": []
    },
    {
      "cell_type": "code",
      "metadata": {
        "id": "eBAtCTsg8K_6"
      },
      "source": [
        "ph.plot.line()"
      ],
      "execution_count": null,
      "outputs": []
    },
    {
      "cell_type": "code",
      "metadata": {
        "id": "_2rNvTf48R22"
      },
      "source": [
        "ph.plot.pie()"
      ],
      "execution_count": null,
      "outputs": []
    },
    {
      "cell_type": "markdown",
      "metadata": {
        "id": "ueYmFJqR8gWX"
      },
      "source": [
        "# Otro Ejercicio:\n",
        "\n",
        "Cargar un archivo de texto csv\n"
      ]
    },
    {
      "cell_type": "code",
      "metadata": {
        "id": "5WE0ZQt58dr8"
      },
      "source": [
        "# arga archivo s de extensión csv\n",
        "import pandas as pd\n",
        "casas = pd.read_csv(\"/content/sample_data/california_housing_train.csv\")\n",
        "casas.info()"
      ],
      "execution_count": null,
      "outputs": []
    },
    {
      "cell_type": "code",
      "metadata": {
        "id": "GhgzVmMr9NOt"
      },
      "source": [
        "casas.describe()"
      ],
      "execution_count": null,
      "outputs": []
    },
    {
      "cell_type": "code",
      "metadata": {
        "id": "JXYhO7xs9fVD"
      },
      "source": [
        "casas.columns"
      ],
      "execution_count": null,
      "outputs": []
    },
    {
      "cell_type": "code",
      "metadata": {
        "id": "ysLHk8zz90Uc"
      },
      "source": [
        "casas.columns = ['long', 'lat', 'edad', 'cuartos',\n",
        "       'baños', 'pop', 'households', 'median_income',\n",
        "       'valor']"
      ],
      "execution_count": null,
      "outputs": []
    },
    {
      "cell_type": "code",
      "metadata": {
        "id": "snhu7REI-IeY"
      },
      "source": [
        "casas.columns"
      ],
      "execution_count": null,
      "outputs": []
    },
    {
      "cell_type": "code",
      "metadata": {
        "id": "wa-ePM8F-KhU"
      },
      "source": [
        "valor = casas.valor\n",
        "valor.describe()"
      ],
      "execution_count": null,
      "outputs": []
    },
    {
      "cell_type": "code",
      "metadata": {
        "id": "gyBJX0eo-Qea"
      },
      "source": [
        "valor.plot.box()"
      ],
      "execution_count": null,
      "outputs": []
    },
    {
      "cell_type": "code",
      "metadata": {
        "id": "RvGdU8_0-heu"
      },
      "source": [
        "valor.plot.density()"
      ],
      "execution_count": null,
      "outputs": []
    },
    {
      "cell_type": "code",
      "metadata": {
        "id": "yxiKXXSN-yF_"
      },
      "source": [
        "valor.to_csv(\"valor.csv\")"
      ],
      "execution_count": null,
      "outputs": []
    },
    {
      "cell_type": "code",
      "metadata": {
        "id": "u49vqcZq_HCJ"
      },
      "source": [
        "descripcion = valor.describe()"
      ],
      "execution_count": null,
      "outputs": []
    },
    {
      "cell_type": "code",
      "metadata": {
        "id": "YErLyng-_RJ2"
      },
      "source": [
        "descripcion.to_excel(\"descriptiva_valores.xlsx\")"
      ],
      "execution_count": null,
      "outputs": []
    },
    {
      "cell_type": "code",
      "metadata": {
        "id": "1L4J4wmI_djm"
      },
      "source": [],
      "execution_count": null,
      "outputs": []
    },
    {
      "cell_type": "markdown",
      "metadata": {
        "id": "XKgmJ9id_pcw"
      },
      "source": [
        "# Codigos de ejemplo en colaboratory\n",
        "\n",
        "En el panel lateral hay un menú llamado: \"Fragmentos de código\""
      ]
    },
    {
      "cell_type": "code",
      "metadata": {
        "id": "VaZM9PIb_zWZ"
      },
      "source": [],
      "execution_count": null,
      "outputs": []
    },
    {
      "cell_type": "code",
      "metadata": {
        "id": "RPs4Soa0ASAz"
      },
      "source": [
        "# load an example dataset\n",
        "from vega_datasets import data\n",
        "cars = data.cars()\n",
        "\n",
        "# plot the dataset, referencing dataframe column names\n",
        "import altair as alt\n",
        "alt.Chart(cars).mark_bar().encode(\n",
        "  x='mean(Miles_per_Gallon)',\n",
        "  y='Origin',\n",
        "  color='Origin'\n",
        ")"
      ],
      "execution_count": null,
      "outputs": []
    },
    {
      "cell_type": "code",
      "metadata": {
        "id": "yXR_uvCZAoHy"
      },
      "source": [
        "cars.info()"
      ],
      "execution_count": null,
      "outputs": []
    },
    {
      "cell_type": "code",
      "metadata": {
        "id": "k0uv7futA5q_"
      },
      "source": [
        "# load an example dataset\n",
        "from vega_datasets import data\n",
        "cars = data.cars()\n",
        "\n",
        "# plot the dataset, referencing dataframe column names\n",
        "import altair as alt\n",
        "alt.Chart(cars).mark_bar().encode(\n",
        "  x=alt.X('Miles_per_Gallon', bin=True),\n",
        "  y='count()',\n",
        ")"
      ],
      "execution_count": null,
      "outputs": []
    },
    {
      "cell_type": "code",
      "metadata": {
        "id": "cGh84LSIBLnk"
      },
      "source": [
        "# load an example dataset\n",
        "from vega_datasets import data\n",
        "cars = data.cars()\n",
        "\n",
        "# plot the dataset, referencing dataframe column names\n",
        "import altair as alt\n",
        "alt.Chart(cars).mark_point().encode(\n",
        "  x='Horsepower',\n",
        "  y='Miles_per_Gallon',\n",
        "  color='Origin'\n",
        ").interactive()"
      ],
      "execution_count": null,
      "outputs": []
    },
    {
      "cell_type": "code",
      "metadata": {
        "id": "AqgeqKzhBUVh"
      },
      "source": [
        "# load an example dataset\n",
        "from vega_datasets import data\n",
        "cars = data.cars()\n",
        "\n",
        "import altair as alt\n",
        "\n",
        "interval = alt.selection_interval()\n",
        "\n",
        "points = alt.Chart(cars).mark_point().encode(\n",
        "  x='Horsepower',\n",
        "  y='Miles_per_Gallon',\n",
        "  color=alt.condition(interval, 'Origin', alt.value('lightgray'))\n",
        ").properties(\n",
        "  selection=interval\n",
        ")\n",
        "\n",
        "histogram = alt.Chart(cars).mark_bar().encode(\n",
        "  x='count()',\n",
        "  y='Origin',\n",
        "  color='Origin'\n",
        ").transform_filter(interval)\n",
        "\n",
        "points & histogram"
      ],
      "execution_count": null,
      "outputs": []
    },
    {
      "cell_type": "code",
      "metadata": {
        "id": "e9rOyeLWBcQG"
      },
      "source": [
        "# load an example dataset\n",
        "from vega_datasets import data\n",
        "cars = data.cars()\n",
        "\n",
        "import altair as alt\n",
        "\n",
        "points = alt.Chart(cars).mark_point().encode(\n",
        "  x='Year:T',\n",
        "  y='Miles_per_Gallon',\n",
        "  color='Origin'\n",
        ").properties(\n",
        "  width=800\n",
        ")\n",
        "\n",
        "lines = alt.Chart(cars).mark_line().encode(\n",
        "  x='Year:T',\n",
        "  y='mean(Miles_per_Gallon)',\n",
        "  color='Origin'\n",
        ").properties(\n",
        "  width=800\n",
        ").interactive(bind_y=False)\n",
        "\n",
        "points + lines"
      ],
      "execution_count": null,
      "outputs": []
    },
    {
      "cell_type": "code",
      "metadata": {
        "id": "vNwlCXl6Bh2k"
      },
      "source": [
        "# load an example dataset\n",
        "from vega_datasets import data\n",
        "cars = data.cars()\n",
        "\n",
        "# plot the dataset, referencing dataframe column names\n",
        "import altair as alt\n",
        "alt.Chart(cars).mark_bar().encode(\n",
        "  x=alt.X('Miles_per_Gallon', bin=True),\n",
        "  y='count()',\n",
        "  color='Origin'\n",
        ")"
      ],
      "execution_count": null,
      "outputs": []
    },
    {
      "cell_type": "code",
      "metadata": {
        "id": "bA7Ey617BjG6"
      },
      "source": [
        "# load an example dataset\n",
        "from vega_datasets import data\n",
        "cars = data.cars()\n",
        "\n",
        "# plot the dataset, referencing dataframe column names\n",
        "import altair as alt\n",
        "alt.Chart(cars).mark_bar().encode(\n",
        "  x=alt.X('Miles_per_Gallon', bin=True),\n",
        "  y='count()',\n",
        "  color='Origin'\n",
        ")"
      ],
      "execution_count": null,
      "outputs": []
    },
    {
      "cell_type": "code",
      "metadata": {
        "id": "DS9d-kMzBosp"
      },
      "source": [
        "from vega_datasets import data\n",
        "stocks = data.stocks()\n",
        "\n",
        "import altair as alt\n",
        "alt.Chart(stocks).mark_line().encode(\n",
        "  x='date:T',\n",
        "  y='price',\n",
        "  color='symbol'\n",
        ").interactive(bind_y=False)"
      ],
      "execution_count": null,
      "outputs": []
    },
    {
      "cell_type": "code",
      "metadata": {
        "id": "Hnisc60sAsXg"
      },
      "source": [],
      "execution_count": null,
      "outputs": []
    }
  ]
}