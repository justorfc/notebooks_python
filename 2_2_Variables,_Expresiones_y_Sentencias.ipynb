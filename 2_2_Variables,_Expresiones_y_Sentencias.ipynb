{
  "nbformat": 4,
  "nbformat_minor": 0,
  "metadata": {
    "colab": {
      "provenance": [],
      "include_colab_link": true
    },
    "kernelspec": {
      "name": "python3",
      "display_name": "Python 3"
    }
  },
  "cells": [
    {
      "cell_type": "markdown",
      "metadata": {
        "id": "view-in-github",
        "colab_type": "text"
      },
      "source": [
        "<a href=\"https://colab.research.google.com/github/justorfc/notebooks_python/blob/main/2_2_Variables%2C_Expresiones_y_Sentencias.ipynb\" target=\"_parent\"><img src=\"https://colab.research.google.com/assets/colab-badge.svg\" alt=\"Open In Colab\"/></a>"
      ]
    },
    {
      "cell_type": "markdown",
      "metadata": {
        "id": "yvEzh02-Fnli"
      },
      "source": [
        "# Variables, expresiones y sentencias. Chapter 2, del libro:\n",
        "\n",
        "[Python para todos. Explorando la información con Python 3. Charles R. Severance](http://do1.dr-chuck.com/pythonlearn/ES_es/pythonlearn.pdf)"
      ]
    },
    {
      "cell_type": "markdown",
      "metadata": {
        "id": "oKNM5W3EGZbs"
      },
      "source": [
        " # **Valores y tipos**\n",
        "\n",
        "Un valor es una de las cosas básicas que utiliza un programa, como una letra o un\n",
        "número. Los valores como 1, 2, y “¡Hola, mundo!”\n",
        "\n",
        "Esos valores pertenecen a tipos diferentes: 2 es un entero (int), y “¡Hola, mundo!” es una cadena (string), que recibe ese nombre porque contiene una “cadena” de letras. Tú (y el intérprete) podéis identificar las cadenas porque van encerradas entre comillas.\n",
        "\n",
        "La sentencia print también funciona con enteros."
      ]
    },
    {
      "cell_type": "code",
      "metadata": {
        "id": "seA1P2jgwkDV",
        "colab": {
          "base_uri": "https://localhost:8080/"
        },
        "outputId": "9c9a640e-25c6-48b1-ee97-2420a158196e"
      },
      "source": [
        "print(4)"
      ],
      "execution_count": null,
      "outputs": [
        {
          "output_type": "stream",
          "name": "stdout",
          "text": [
            "4\n"
          ]
        }
      ]
    },
    {
      "cell_type": "markdown",
      "metadata": {
        "id": "dfrAMoKpwlDb"
      },
      "source": [
        "Si no estás seguro de qué tipo de valor estás manejando, el intérprete te lo puede\n",
        "decir."
      ]
    },
    {
      "cell_type": "code",
      "metadata": {
        "id": "-t9vQNQiwoWe",
        "colab": {
          "base_uri": "https://localhost:8080/"
        },
        "outputId": "215e19a7-bb29-408a-a49e-20efff3bc1a8"
      },
      "source": [
        "type(\"hola mundo\")"
      ],
      "execution_count": null,
      "outputs": [
        {
          "output_type": "execute_result",
          "data": {
            "text/plain": [
              "str"
            ]
          },
          "metadata": {},
          "execution_count": 2
        }
      ]
    },
    {
      "cell_type": "code",
      "metadata": {
        "id": "Dq-V2OOUwrTk",
        "colab": {
          "base_uri": "https://localhost:8080/"
        },
        "outputId": "7931d5ef-ab95-4abc-8cc4-698367a661fe"
      },
      "source": [
        "type(17)"
      ],
      "execution_count": null,
      "outputs": [
        {
          "output_type": "execute_result",
          "data": {
            "text/plain": [
              "int"
            ]
          },
          "metadata": {},
          "execution_count": 3
        }
      ]
    },
    {
      "cell_type": "markdown",
      "metadata": {
        "id": "79Fq4UHJwtcc"
      },
      "source": [
        "No es sorprendente que las cadenas pertenezcan al tipo str y los enteros pertenezcan al tipo int.\n",
        "\n",
        "Menos obviamente, los números con un punto decimal pertenecen a un tipo llamado flotante, porque estos números están representados en un formato llamado coma flotante."
      ]
    },
    {
      "cell_type": "code",
      "metadata": {
        "id": "Jcjp2L_KxBRT",
        "colab": {
          "base_uri": "https://localhost:8080/"
        },
        "outputId": "2b0d6e2d-e7a2-4eb1-f8cd-79d86933ac3b"
      },
      "source": [
        "type(3.2)"
      ],
      "execution_count": null,
      "outputs": [
        {
          "output_type": "execute_result",
          "data": {
            "text/plain": [
              "float"
            ]
          },
          "metadata": {},
          "execution_count": 4
        }
      ]
    },
    {
      "cell_type": "code",
      "metadata": {
        "id": "l5L6sK1zEv0T"
      },
      "source": [],
      "execution_count": null,
      "outputs": []
    },
    {
      "cell_type": "markdown",
      "metadata": {
        "id": "H5NxE1EbxEHi"
      },
      "source": [
        "¿Qué ocurre con valores como “17” y “3.2”? Parecen números, pero van entre comillas como las cadenas."
      ]
    },
    {
      "cell_type": "code",
      "metadata": {
        "id": "qszSon8XxH1Q",
        "colab": {
          "base_uri": "https://localhost:8080/"
        },
        "outputId": "feed69ca-e501-4ebe-a751-67ac14742f5b"
      },
      "source": [
        "type('17')"
      ],
      "execution_count": null,
      "outputs": [
        {
          "output_type": "execute_result",
          "data": {
            "text/plain": [
              "str"
            ]
          },
          "metadata": {},
          "execution_count": 5
        }
      ]
    },
    {
      "cell_type": "code",
      "metadata": {
        "id": "L17C4JlsxLE_",
        "colab": {
          "base_uri": "https://localhost:8080/"
        },
        "outputId": "7dac569f-a9d0-4016-f8f8-ba34bfd9fdea"
      },
      "source": [
        "type('3.2')"
      ],
      "execution_count": null,
      "outputs": [
        {
          "output_type": "execute_result",
          "data": {
            "text/plain": [
              "str"
            ]
          },
          "metadata": {},
          "execution_count": 6
        }
      ]
    },
    {
      "cell_type": "code",
      "source": [
        "type('3.2')"
      ],
      "metadata": {
        "id": "1dVkDsNorouQ",
        "colab": {
          "base_uri": "https://localhost:8080/"
        },
        "outputId": "00b84d2a-46c4-4deb-e4aa-49381613a574"
      },
      "execution_count": null,
      "outputs": [
        {
          "output_type": "execute_result",
          "data": {
            "text/plain": [
              "str"
            ]
          },
          "metadata": {},
          "execution_count": 10
        }
      ]
    },
    {
      "cell_type": "markdown",
      "metadata": {
        "id": "bmNetPWExNDu"
      },
      "source": [
        "Son cadenas.\n",
        "\n",
        "Cuando escribes un entero grande, puede que te sientas tentado a usar comas o\n",
        "puntos para separarlo en grupos de tres dígitos, como en 1,000,000 1 . Eso no es\n",
        "un entero válido en Python, pero en cambio sí que resulta válido algo como:"
      ]
    },
    {
      "cell_type": "code",
      "metadata": {
        "id": "8OgTcpyNxRLl"
      },
      "source": [
        "print(1,000,000)"
      ],
      "execution_count": null,
      "outputs": []
    },
    {
      "cell_type": "markdown",
      "metadata": {
        "id": "QRnNtfVAxXFP"
      },
      "source": [
        "Bien, ha funcionado. ¡Pero eso no era lo que esperábamos!. Python interpreta\n",
        "1,000,000 como una secuencia de enteros separados por comas, así que lo imprime\n",
        "con espacios en medio.\n",
        "\n",
        "Éste es el primer ejemplo que hemos visto de un error semántico: el código funciona\n",
        "sin producir ningún mensaje de error, pero no hace su trabajo “correctamente”."
      ]
    },
    {
      "cell_type": "code",
      "source": [
        "print(type( [1,000,000] ))"
      ],
      "metadata": {
        "id": "pr3uytWwsp77"
      },
      "execution_count": null,
      "outputs": []
    },
    {
      "cell_type": "markdown",
      "metadata": {
        "id": "1x4W1oEkGeW6"
      },
      "source": [
        "# **Variables**\n",
        "\n",
        "Una de las características más potentes de un lenguaje de programación es la\n",
        "capacidad de manipular variables. Una variable es un nombre que se refiere a un\n",
        "valor.\n",
        "\n",
        "Una sentencia de asignación crea variables nuevas y las da valores:"
      ]
    },
    {
      "cell_type": "code",
      "metadata": {
        "id": "fSfA3t6YxiaX"
      },
      "source": [
        "mensaje = 'Y ahora algo completamente diferente'\n",
        "n = 17\n",
        "pi = 3.1415926535897931"
      ],
      "execution_count": null,
      "outputs": []
    },
    {
      "cell_type": "markdown",
      "metadata": {
        "id": "3khySdSJxmg_"
      },
      "source": [
        "Este ejemplo hace tres asignaciones. La primera asigna una cadena a una variable\n",
        "nueva llamada mensaje; la segunda asigna el entero 17 a n; la tercera asigna el\n",
        "valor (aproximado) de π a pi.\n",
        "\n",
        "Para mostrar el valor de una variable, se puede usar la sentencia print:"
      ]
    },
    {
      "cell_type": "code",
      "metadata": {
        "id": "EPqI28FRxqVB"
      },
      "source": [
        "print(n)\n",
        "print(pi)\n",
        "print(mensaje)"
      ],
      "execution_count": null,
      "outputs": []
    },
    {
      "cell_type": "markdown",
      "metadata": {
        "id": "KqAgxlHuxv8i"
      },
      "source": [
        "El tipo de una variable es el tipo del valor al que se refiere."
      ]
    },
    {
      "cell_type": "code",
      "metadata": {
        "id": "RNEsNqPZx0Z9"
      },
      "source": [
        "type(mensaje)"
      ],
      "execution_count": null,
      "outputs": []
    },
    {
      "cell_type": "code",
      "source": [
        "Mensaje\n",
        "# Los nombres de variables son sensibles a mayúsculas y minúsculas"
      ],
      "metadata": {
        "id": "CSvgsbJ1vIFX"
      },
      "execution_count": null,
      "outputs": []
    },
    {
      "cell_type": "code",
      "metadata": {
        "id": "S4V_QWCax7L7"
      },
      "source": [
        "type(n)"
      ],
      "execution_count": null,
      "outputs": []
    },
    {
      "cell_type": "code",
      "metadata": {
        "id": "CVWmAPvJx9TE"
      },
      "source": [
        "type(pi)"
      ],
      "execution_count": null,
      "outputs": []
    },
    {
      "cell_type": "markdown",
      "metadata": {
        "id": "su3j9KapGjIh"
      },
      "source": [
        "# **Nombres de variables y palabras claves**\n",
        "\n",
        "Los programadores generalmente eligen nombres para sus variables que tengan\n",
        "sentido y documenten para qué se usa esa variable.\n",
        "\n",
        "Los nombres de las variables pueden ser arbitrariamente largos. Pueden contener\n",
        "tanto letras como números, pero no pueden comenzar con un número. Se pueden usar letras mayúsculas, pero es buena idea comenzar los nombres de las variables\n",
        "con una letras minúscula (veremos por qué más adelante).\n",
        "\n",
        "El carácter guión-bajo (_) puede utilizarse en un nombre. A menudo se utiliza en nombres con múltiples palabras, como en mi_nombre o velocidad_de_golondrina_sin_carga\n",
        "Los nombres de las variables pueden comenzar con un carácter guión-bajo, pero\n",
        "generalmente se evita usarlo así a menos que se esté escribiendo código para\n",
        "librerías que luego utilizarán otros.\n",
        "\n",
        "Si se le da a una variable un nombre no permitido, se obtiene un error de sintaxis:"
      ]
    },
    {
      "cell_type": "code",
      "metadata": {
        "id": "m1RbXJRIyVOr"
      },
      "source": [
        "# Esto es un error\n",
        "76trombones = 'gran desfile'\n",
        "# Los nombres de variables deben comenzar con letras, después pueden tener números"
      ],
      "execution_count": null,
      "outputs": []
    },
    {
      "cell_type": "code",
      "metadata": {
        "id": "xOg0loefyX8m"
      },
      "source": [
        "# Otro error de nombre invalido de variable\n",
        "more@ = 1000000"
      ],
      "execution_count": null,
      "outputs": []
    },
    {
      "cell_type": "code",
      "metadata": {
        "id": "0tIAW83NyaLD"
      },
      "source": [
        "# Otro error de nombre invalido de variable\n",
        "class = 'Teorema avanzado de Zymurgy'"
      ],
      "execution_count": null,
      "outputs": []
    },
    {
      "cell_type": "code",
      "metadata": {
        "id": "vr1txTyDIQKc"
      },
      "source": [
        "# Otro error\n",
        "humedad relativa = 23\n",
        "# Los nombres de variables no llevan espacios\n",
        "# Una opción seria humedad_relativa"
      ],
      "execution_count": null,
      "outputs": []
    },
    {
      "cell_type": "markdown",
      "metadata": {
        "id": "C6cywfXqydZg"
      },
      "source": [
        "76trombones es incorrecto porque comienza por un número. more@ es incorrecto porque contiene un carácter no premitido, @. Pero, ¿qué es lo que está mal en **class**?\n",
        "\n",
        "Pues resulta que **class** es una de las palabras clave de Python. El intérprete usa palabras clave para reconocer la estructura del programa, y esas palabras no pueden ser utilizadas como nombres de variables.\n",
        "\n",
        "Python reserva 33 palabras claves para su propio uso:\n",
        "\n",
        "```\n",
        "and  as  assert  break\n",
        "class  continue  def\n",
        "del  elif  else  except\n",
        "False  finally  for  from\n",
        "global  if  import  in\n",
        "is  lambda  None  nonlocal\n",
        "not  or  pass  raise  return\n",
        "True try  while  with  yield\n",
        "```\n",
        "\n",
        "Puede que quieras tener esta lista a mano. Si el intérprete se queja por el nombre de una de tus variables y no sabes por qué, comprueba si ese nombre está en esta lista."
      ]
    },
    {
      "cell_type": "markdown",
      "metadata": {
        "id": "9-LSxDgcGn85"
      },
      "source": [
        "# **Sentencias**\n",
        "\n",
        "Una **sentencia** es una unidad de código que el intérprete de Python puede ejecutar. Hemos visto hasta ahora dos tipos de sentencia: **print** y las **asignaciones**.\n",
        "\n",
        "Cuando escribes una sentencia en modo interactivo, el intérprete la ejecuta y muestra el resultado, si es que lo hay.\n",
        "\n",
        "Un **script** normalmente contiene una secuencia de **sentencias**. Si hay más de una sentencia, los resultados aparecen de uno en uno según se van ejecutando las sentencias.\n",
        "\n",
        "Por ejemplo, el script"
      ]
    },
    {
      "cell_type": "code",
      "metadata": {
        "id": "F_zEwf9xz264"
      },
      "source": [
        "print(1)\n",
        "x = 2\n",
        "print(x)"
      ],
      "execution_count": null,
      "outputs": []
    },
    {
      "cell_type": "markdown",
      "metadata": {
        "id": "8atZKr6wz6S8"
      },
      "source": [
        "produce la salida\n",
        "\n",
        "1\n",
        "\n",
        "2\n",
        "\n",
        "La sentencia de asignación no produce ninguna salida."
      ]
    },
    {
      "cell_type": "markdown",
      "metadata": {
        "id": "G7JXEFnQGsN1"
      },
      "source": [
        "# **Operadores y operandos**\n",
        "\n",
        "[Operadores en Python](https://www.freecodecamp.org/espanol/news/operadores-basicos-en-python-con-ejemplos/)\n",
        "\n",
        "Los operadores son símbolos especiales que representan cálculos, como la suma o\n",
        "la multiplicación. Los valores a los cuales se aplican esos operadores reciben el nombre de operandos.\n",
        "\n",
        "Los operadores +, -, , /, y \\* realizan sumas, restas, multiplicaciones, divisiones y exponenciación (elevar un número a una potencia), como se muestra en los ejemplos siguientes:\n",
        "\n",
        "```\n",
        "20+32\n",
        "hour-1\n",
        "hour*60+minute\n",
        "minute/60\n",
        "5**2\n",
        "(5+9)*(15-7)\n",
        "```\n",
        "Ha habido un cambio en el operador de división entre Python 2.x y Python 3.x.\n",
        "En Python 3.x, el resultado de esta división es un resultado de punto flotante:"
      ]
    },
    {
      "cell_type": "code",
      "metadata": {
        "id": "wYpwzM080KUN"
      },
      "source": [
        "minute = 59\n",
        "minute/60"
      ],
      "execution_count": null,
      "outputs": []
    },
    {
      "cell_type": "markdown",
      "metadata": {
        "id": "-eWyWbLi0wBc"
      },
      "source": [
        "El operador de división en Python 2.0 dividiría dos enteros y truncar el resultado a un entero:\n",
        "\n",
        "```\n",
        "minute = 59\n",
        "minute/60\n",
        "0\n",
        "```\n",
        "Para obtener la misma respuesta en Python 3.0 use división dividida (// integer).\n",
        "\n",
        "En Python 3, la división de enteros funciona mucho más como cabría esperar. Si\n",
        "ingresaste la expresión en una calculadora."
      ]
    },
    {
      "cell_type": "code",
      "metadata": {
        "id": "d20TLFjbKhqN"
      },
      "source": [
        "# División real\n",
        "5/2"
      ],
      "execution_count": null,
      "outputs": []
    },
    {
      "cell_type": "code",
      "metadata": {
        "id": "vvVr0JB2KhNq"
      },
      "source": [
        "# División entera\n",
        "5//2"
      ],
      "execution_count": null,
      "outputs": []
    },
    {
      "cell_type": "code",
      "metadata": {
        "id": "ak3OYeQAKgv-"
      },
      "source": [
        "# División de módulo o resto\n",
        "5%2\n",
        "# Obtiene el resto de una división"
      ],
      "execution_count": null,
      "outputs": []
    },
    {
      "cell_type": "markdown",
      "source": [
        "# EL OPERADOR % DEVUELVE CERO SI SE DIVIDE POR 2, INDICANDO QUE ES UN NÚMERO PAR"
      ],
      "metadata": {
        "id": "kZut-ToMx7WJ"
      }
    },
    {
      "cell_type": "code",
      "metadata": {
        "id": "AJpwHaf2LOxL"
      },
      "source": [
        "6%2"
      ],
      "execution_count": null,
      "outputs": []
    },
    {
      "cell_type": "code",
      "metadata": {
        "id": "MlK6Rn3oLOak"
      },
      "source": [
        "7%2"
      ],
      "execution_count": null,
      "outputs": []
    },
    {
      "cell_type": "code",
      "metadata": {
        "id": "ekmLi7FRLOKz"
      },
      "source": [
        "8%2"
      ],
      "execution_count": null,
      "outputs": []
    },
    {
      "cell_type": "code",
      "metadata": {
        "id": "k5v9ooLSLNxN"
      },
      "source": [
        "2000 % 400"
      ],
      "execution_count": null,
      "outputs": []
    },
    {
      "cell_type": "code",
      "metadata": {
        "id": "xV0wbkqMGwP7"
      },
      "source": [
        "a = 2000\n",
        "b = 400\n",
        "a % b"
      ],
      "execution_count": null,
      "outputs": []
    },
    {
      "cell_type": "markdown",
      "metadata": {
        "id": "fSlGMIeoGxGV"
      },
      "source": [
        "# **Expresiones**\n",
        "\n",
        "Una **expresión** es una combinación de **valores, variables y operadores**. Un valor por si mismo se considera una expresión, y también lo es una variable, así que las siguientes expresiones son todas válidas (asumiendo que la variable x tenga un valor asignado):\n",
        "\n",
        "```\n",
        "17\n",
        "x\n",
        "x + 17\n",
        "```\n",
        "\n",
        "Si escribes una expresión en modo interactivo, el intérprete la evalúa y muestra el resultado:"
      ]
    },
    {
      "cell_type": "code",
      "metadata": {
        "id": "8HSPFCy01pSd"
      },
      "source": [
        "1 + 1"
      ],
      "execution_count": null,
      "outputs": []
    },
    {
      "cell_type": "code",
      "metadata": {
        "id": "M15PSDzhMLiB"
      },
      "source": [
        "a + b * 12"
      ],
      "execution_count": null,
      "outputs": []
    },
    {
      "cell_type": "code",
      "metadata": {
        "id": "1YkqQdQwMLYj"
      },
      "source": [],
      "execution_count": null,
      "outputs": []
    },
    {
      "cell_type": "code",
      "metadata": {
        "id": "FyPq9zbnMK-L"
      },
      "source": [],
      "execution_count": null,
      "outputs": []
    },
    {
      "cell_type": "markdown",
      "metadata": {
        "id": "4pMlbgur1smb"
      },
      "source": [
        "Sin embargo, en un script, ¡una expresión por si misma no hace nada! Esto a\n",
        "menudo puede producir confusión entre los principiantes.\n",
        "\n",
        "**Ejercicio 1**: Escribe las siguientes sentencias en el intérprete de Python\n",
        "para comprobar qué hacen:"
      ]
    },
    {
      "cell_type": "code",
      "metadata": {
        "id": "UKdG_hH71y7k"
      },
      "source": [
        "5\n",
        "x = 5\n",
        "x + 1"
      ],
      "execution_count": null,
      "outputs": []
    },
    {
      "cell_type": "markdown",
      "metadata": {
        "id": "4DIoAkzFG2_9"
      },
      "source": [
        "# **Orden de las operaciones**\n",
        "\n",
        "Cuando en una expresión aparece más de un operador, el orden de evaluación depende de las **reglas de precedencia**. Para los operadores matemáticos, Python sigue\n",
        "las convenciones matemáticas. El acrónimo **PEMDSR** resulta útil para recordar esas reglas:\n",
        "1. **P: Los Paréntesis** tienen el nivel superior de precedencia, y pueden usarse para forzar a que una expresión sea evaluada en el orden que se quiera. Dado que las expresiones entre paréntesis son evaluadas primero, 2 * (3-1) es 4,\n",
        "y (1+1)**(5-2) es 8. Se pueden usar también paréntesis para hacer una\n",
        "expresión más sencilla de leer, incluso si el resultado de la misma no varía\n",
        "por ello, como en (minuto * 100) / 60.\n",
        "2. **E: La Exponenciación** (elevar un número a una potencia) tiene el siguiente nivel más alto de precedencia, de modo que $2**1+1$ es 3, no 4, y $3*1**3$ es 3, no 27.\n",
        "3.  **MD: La Multiplicación** y **la División** tienen la misma precedencia, que es superior a la de la Suma y la Resta, que también tienen entre si el mismo nivel de precedencia. Así que 2*3-1 es 5, no 4, y 6+4/2 es 8, no 5.\n",
        "4. **Los operadores con igual precedencia son evaluados de izquierda a derecha**.\n",
        "\n",
        "Así que la expresión 5-3-1 es 1 y no 3, ya que 5-3 se evalúa antes, y después se resta 1 de 2.\n",
        "\n",
        "En caso de duda, añade siempre paréntesis a tus expresiones para asegurarte de que las operaciones se realizan en el orden que tú quieres."
      ]
    },
    {
      "cell_type": "code",
      "metadata": {
        "id": "llz4ENwhNKL-"
      },
      "source": [
        "5-(3-1)+12/(23+43)"
      ],
      "execution_count": null,
      "outputs": []
    },
    {
      "cell_type": "markdown",
      "source": [
        "$$\n",
        "a / (b + c)\n",
        "$$"
      ],
      "metadata": {
        "id": "vqabiMH5zwt-"
      }
    },
    {
      "cell_type": "code",
      "source": [
        "a = 23\n",
        "b = 12\n",
        "c = 11\n",
        "a/(b+c)"
      ],
      "metadata": {
        "id": "-h_l-VT4zarI"
      },
      "execution_count": null,
      "outputs": []
    },
    {
      "cell_type": "markdown",
      "metadata": {
        "id": "fb2khy8xG7yh"
      },
      "source": [
        "# **Operador módulo**\n",
        "\n",
        "El **operador módulo** trabaja con enteros y obtiene el resto de la operación consistente en dividir el primer operando por el segundo. En Python, el operador módulo es un signo de porcentaje (%). La sintaxis es la misma que se usa para los demás operadores:"
      ]
    },
    {
      "cell_type": "code",
      "metadata": {
        "id": "x8xel-2T3Jsy"
      },
      "source": [
        "quotient = 7 // 3\n",
        "print(quotient)"
      ],
      "execution_count": null,
      "outputs": []
    },
    {
      "cell_type": "code",
      "metadata": {
        "id": "humnhSTgHAja"
      },
      "source": [
        "remainder = 7 % 3\n",
        "print(remainder)"
      ],
      "execution_count": null,
      "outputs": []
    },
    {
      "cell_type": "markdown",
      "metadata": {
        "id": "hr_lj1O83QDx"
      },
      "source": [
        "Así que 7 dividido por 3 es 2 y nos sobra 1.\n",
        "\n",
        "El operador módulo resulta ser sorprendentemente útil. Por ejemplo, puedes comprobar si un número es divisible por otro—si x % y es cero, entonces x es divisible por y.\n",
        "\n",
        "También se puede extraer el dígito más a la derecha de los que componen un\n",
        "número. Por ejemplo, x % 10 obtiene el dígito que está más a la derecha de x (en\n",
        "base 10). De forma similar, x % 100 obtiene los dos últimos dígitos."
      ]
    },
    {
      "cell_type": "markdown",
      "metadata": {
        "id": "vl5sckJCHB2t"
      },
      "source": [
        "# **Operaciones con cadenas**\n",
        "\n",
        "**El operador +** funciona con las cadenas, pero no realiza una suma en el sentido matemático. En vez de eso, realiza una concatenación, que quiere decir que une ambas cadenas, enlazando el final de la primera con el principio de la segunda. Por ejemplo:"
      ]
    },
    {
      "cell_type": "code",
      "metadata": {
        "id": "lyyz3itS3ida"
      },
      "source": [
        "primero = 10\n",
        "segundo = 15\n",
        "print(primero+segundo)"
      ],
      "execution_count": null,
      "outputs": []
    },
    {
      "cell_type": "code",
      "metadata": {
        "id": "lKnmxrjuHFry"
      },
      "source": [
        "primero = '100'\n",
        "segundo = '150'\n",
        "print(primero + segundo)"
      ],
      "execution_count": null,
      "outputs": []
    },
    {
      "cell_type": "markdown",
      "metadata": {
        "id": "Eb6avG5y34Mg"
      },
      "source": [
        "La salida de este programa es 100150.\n",
        "\n",
        "**El operador *** también trabaja con cadenas multiplicando el contenido de una\n",
        "cadena por un entero. Por ejemplo:"
      ]
    },
    {
      "cell_type": "code",
      "metadata": {
        "id": "UwenWXw138Mw"
      },
      "source": [
        "primero = 'Test '\n",
        "second = 3\n",
        "print(primero * second)"
      ],
      "execution_count": null,
      "outputs": []
    },
    {
      "cell_type": "markdown",
      "metadata": {
        "id": "5v5A7TKzHGfl"
      },
      "source": [
        "#  **Petición de información al usuario**\n",
        "\n",
        "A veces necesitaremos que sea el usuario quien nos proporcione el valor para una\n",
        "variable, a través del teclado. Python proporciona una función interna llamada\n",
        "**input()** que recibe la entrada desde el teclado.\n",
        "\n",
        "Cuando se llama a esa función, el programa se detiene y espera a que el usuario escriba algo. Cuando el usuario\n",
        "pulsa **Retorno** o **Intro**, el programa continúa y input devuelve como una cadena aquello que el usuario escribió."
      ]
    },
    {
      "cell_type": "code",
      "source": [
        "input()\n",
        "# Read a string from standard input."
      ],
      "metadata": {
        "id": "P3pMq6ts03lQ"
      },
      "execution_count": null,
      "outputs": []
    },
    {
      "cell_type": "code",
      "metadata": {
        "id": "Qlgeg7Ek4XRE"
      },
      "source": [
        "entrada = input()\n",
        "# Se creará la variable enrada como tipo string(str) porque la función input(), lee un string"
      ],
      "execution_count": null,
      "outputs": []
    },
    {
      "cell_type": "code",
      "metadata": {
        "id": "_Kqdvw2SPTlK"
      },
      "source": [
        "type(entrada)"
      ],
      "execution_count": null,
      "outputs": []
    },
    {
      "cell_type": "code",
      "source": [
        "entrada"
      ],
      "metadata": {
        "id": "NI2zEPHj1zgw"
      },
      "execution_count": null,
      "outputs": []
    },
    {
      "cell_type": "code",
      "metadata": {
        "id": "4daC5-JfPTPu"
      },
      "source": [
        "print(entrada)"
      ],
      "execution_count": null,
      "outputs": []
    },
    {
      "cell_type": "code",
      "source": [
        "entrada/25\n",
        "# Da error"
      ],
      "metadata": {
        "id": "RtxrpTSi1940"
      },
      "execution_count": null,
      "outputs": []
    },
    {
      "cell_type": "code",
      "metadata": {
        "id": "YvyuP_kaHKgS"
      },
      "source": [
        "type(entrada)"
      ],
      "execution_count": null,
      "outputs": []
    },
    {
      "cell_type": "code",
      "metadata": {
        "id": "g4VaTkI4QQzL"
      },
      "source": [
        "# Si quiero introducir un número y que lo reciba una variable numérica debo convertir la variable\n",
        "x = input(\"Ingrese el valor numérico de x = \")"
      ],
      "execution_count": null,
      "outputs": []
    },
    {
      "cell_type": "code",
      "source": [
        "type(x)"
      ],
      "metadata": {
        "id": "PL1mkoDR2U23"
      },
      "execution_count": null,
      "outputs": []
    },
    {
      "cell_type": "code",
      "metadata": {
        "id": "UmIU1bNNQfnD"
      },
      "source": [
        "# Convierto la variable x a entera con la función int()\n",
        "x = int(x)"
      ],
      "execution_count": null,
      "outputs": []
    },
    {
      "cell_type": "code",
      "metadata": {
        "id": "npVoJpSTQwgv"
      },
      "source": [
        "type(x)"
      ],
      "execution_count": null,
      "outputs": []
    },
    {
      "cell_type": "code",
      "source": [
        "x"
      ],
      "metadata": {
        "id": "gBfAPBBX2dmi"
      },
      "execution_count": null,
      "outputs": []
    },
    {
      "cell_type": "code",
      "metadata": {
        "id": "WjVWRU56Q9B2"
      },
      "source": [
        "print(x)"
      ],
      "execution_count": null,
      "outputs": []
    },
    {
      "cell_type": "code",
      "metadata": {
        "id": "gY4BgcDHQwPH"
      },
      "source": [
        "# Convierto la variable x a flotante con la función float()\n",
        "x = float(x)\n",
        "print(x)"
      ],
      "execution_count": null,
      "outputs": []
    },
    {
      "cell_type": "code",
      "metadata": {
        "id": "PByDrN32QfbN"
      },
      "source": [
        "type(x)"
      ],
      "execution_count": null,
      "outputs": []
    },
    {
      "cell_type": "code",
      "metadata": {
        "id": "ukFVAuq6ReH_"
      },
      "source": [
        "altura = float(input(\"Ingrese la altura = \"))\n",
        "# Convierte si es posible"
      ],
      "execution_count": null,
      "outputs": []
    },
    {
      "cell_type": "code",
      "metadata": {
        "id": "11bG09SVRdxj"
      },
      "source": [],
      "execution_count": null,
      "outputs": []
    },
    {
      "cell_type": "markdown",
      "metadata": {
        "id": "q2wVjVsl4f7y"
      },
      "source": [
        "Antes de recibir cualquier dato desde el usuario, es buena idea escribir un mensaje\n",
        "explicándole qué debe introducir. Se puede pasar una cadena a input, que será\n",
        "mostrada al usuario antes de que el programa se detenga para recibir su entrada:"
      ]
    },
    {
      "cell_type": "code",
      "metadata": {
        "id": "qqgUzxRI4hBu"
      },
      "source": [
        "nombre = input('¿Cómo te llamas?\\n')"
      ],
      "execution_count": null,
      "outputs": []
    },
    {
      "cell_type": "code",
      "metadata": {
        "id": "-epZLUzh4lxg"
      },
      "source": [
        "print(nombre)"
      ],
      "execution_count": null,
      "outputs": []
    },
    {
      "cell_type": "markdown",
      "metadata": {
        "id": "GpdQ_0cH4tuB"
      },
      "source": [
        "La secuencia **\\n** al final del mensaje representa un newline, que es un carácter\n",
        "especial que provoca un salto de línea. Por eso la entrada del usuario aparece\n",
        "debajo de nuestro mensaje.\n",
        "\n",
        "Si esperas que el usuario escriba un entero, puedes intentar convertir el valor de retorno a int usando la función **int()**:"
      ]
    },
    {
      "cell_type": "code",
      "metadata": {
        "id": "mf-ZnG_s40st"
      },
      "source": [
        "prompt = '¿Cual.... es la velocidad de vuelo de una golondrina sin carga?\\n'\n",
        "velocidad = input(prompt)\n",
        "int(velocidad)"
      ],
      "execution_count": null,
      "outputs": []
    },
    {
      "cell_type": "code",
      "metadata": {
        "id": "oDZ3uGUK4-cg"
      },
      "source": [
        "int(velocidad) + 5"
      ],
      "execution_count": null,
      "outputs": []
    },
    {
      "cell_type": "markdown",
      "metadata": {
        "id": "fFUlo4jM5Dt3"
      },
      "source": [
        "Pero si el usuario escribe algo que no sea una cadena de dígitos, obtendrás un error:"
      ]
    },
    {
      "cell_type": "code",
      "metadata": {
        "id": "rle2p1IM5FDY"
      },
      "source": [
        "# Ingrese letras\n",
        "velocidad = input(prompt)\n",
        "int(velocidad)"
      ],
      "execution_count": null,
      "outputs": []
    },
    {
      "cell_type": "markdown",
      "metadata": {
        "id": "rR3bm91q5TMR"
      },
      "source": [
        "Veremos cómo controlar este tipo de errores más adelante."
      ]
    },
    {
      "cell_type": "markdown",
      "metadata": {
        "id": "-3FzAV-rHLb4"
      },
      "source": [
        "# **Comentarios**\n",
        "\n",
        "A medida que los programas se van volviendo más grandes y complicados, se vuelven más difíciles de leer. Los lenguajes formales son densos, y a menudo es complicado mirar un trozo de código e imaginarse qué es lo que hace, o por qué.\n",
        "\n",
        "Por eso es buena idea añadir notas a tus programas, para explicar en un lenguaje\n",
        "normal qué es lo que el programa está haciendo. Estas notas reciben el nombre de\n",
        "**comentarios**, y en Python comienzan con el símbolo **#**:"
      ]
    },
    {
      "cell_type": "code",
      "metadata": {
        "id": "aP5j9ave78-O"
      },
      "source": [
        "# calcula el porcentaje de hora transcurrido\n",
        "minuto = float(input(\"Ingrese minutos = \\n\"))\n",
        "porcentaje = (minuto * 100) / 60\n",
        "print(\"Porcentaje = \", porcentaje)"
      ],
      "execution_count": null,
      "outputs": []
    },
    {
      "cell_type": "markdown",
      "metadata": {
        "id": "hDmlEw5L795C"
      },
      "source": [
        "En este caso, el comentario aparece como una línea completa. Pero también puedes\n",
        "poner comentarios al final de una línea"
      ]
    },
    {
      "cell_type": "code",
      "metadata": {
        "id": "SMrDXKoL8A2d"
      },
      "source": [
        "porcentaje = (minuto * 100) / 60 # porcentaje de una hora"
      ],
      "execution_count": null,
      "outputs": []
    },
    {
      "cell_type": "markdown",
      "metadata": {
        "id": "Q6mXdUxN8IXB"
      },
      "source": [
        "Todo lo que va desde # hasta el final de la línea es ignorado—no afecta para nada\n",
        "al programa.\n",
        "\n",
        "Las comentarios son más útiles cuando documentan características del código que\n",
        "no resultan obvias. Es razonable asumir que el lector puede descifrar qué es lo que el código hace; es mucho más útil explicarle por qué.\n",
        "\n",
        "Este comentario es redundante con el código e inútil:"
      ]
    },
    {
      "cell_type": "code",
      "metadata": {
        "id": "vg0zhbmq8TgL"
      },
      "source": [
        "v = 5   # asigna 5 a v"
      ],
      "execution_count": null,
      "outputs": []
    },
    {
      "cell_type": "markdown",
      "metadata": {
        "id": "M1KsPORJ8abb"
      },
      "source": [
        "Este comentario contiene información útil que no está en el código:"
      ]
    },
    {
      "cell_type": "code",
      "metadata": {
        "id": "cg4InZkv8fF5"
      },
      "source": [
        "v = 5       # velocidad en metros/segundo."
      ],
      "execution_count": null,
      "outputs": []
    },
    {
      "cell_type": "markdown",
      "metadata": {
        "id": "sDb-rOF3HVlA"
      },
      "source": [
        "# **Elección de nombres de variables mnemónicos**\n",
        "\n",
        "Elegir nombres adecuados para las variables puede reducir la necesidad de comentarios, pero los nombres largos también pueden ocasionar que las expresiones complejas sean difíciles de leer, así que hay que conseguir una solución de compromiso."
      ]
    },
    {
      "cell_type": "code",
      "metadata": {
        "id": "VlxRTr6W9gew"
      },
      "source": [
        "a = 35.0\n",
        "b = 12.50\n",
        "c = a * b\n",
        "print(c)"
      ],
      "execution_count": null,
      "outputs": []
    },
    {
      "cell_type": "code",
      "metadata": {
        "id": "rjsAQ8aq9hRR"
      },
      "source": [
        "horas = 35.0\n",
        "tarifa = 12.50\n",
        "salario = horas * tarifa\n",
        "print(\"El salario es = \", salario)"
      ],
      "execution_count": null,
      "outputs": []
    },
    {
      "cell_type": "code",
      "source": [
        "horas = float(input(\"Ingrese las horas = \\n\"))\n",
        "tarifa = float(input(\"Ingrese la tarifa = \\n\"))\n",
        "salario = horas * tarifa\n",
        "print(\"El salario es = \", salario)"
      ],
      "metadata": {
        "id": "9DMr7wD84fY7"
      },
      "execution_count": null,
      "outputs": []
    },
    {
      "cell_type": "code",
      "metadata": {
        "id": "2Oc8dYFI9jPt"
      },
      "source": [
        "x1q3z9ahd = 35.0\n",
        "x1q3z9afd = 12.50\n",
        "x1q3p9afd = x1q3z9ahd * x1q3z9afd\n",
        "print(x1q3p9afd)"
      ],
      "execution_count": null,
      "outputs": []
    },
    {
      "cell_type": "markdown",
      "metadata": {
        "id": "aaCqDBve9lWD"
      },
      "source": [
        "El intérprete de Python ve los tres programas como exactamente idénticos, pero\n",
        "los humanos ven y asimilan estos programas de forma bastante diferente. Los\n",
        "humanos entenderán más rápidamente el objetivo del segundo programa, ya que\n",
        "el programador ha elegido nombres de variables que reflejan lo que pretendía de\n",
        "acuerdo al contenido que iba almacenar en cada variable.\n",
        "\n",
        "Esa sabia elección de nombres de variables se denomina utilizar “nombres de variables mnemónicos”. La palabra mnemónico significa “que ayuda a memorizar”.\n",
        "\n",
        "Consulta https://es.wikipedia.org/wiki/Mnemonico para obtener una descripción detallada de la palabra “mnemónico”.\n",
        "\n",
        "Elegimos nombres de variables mnemónicos para ayudarnos a recordar por qué\n",
        "creamos las variables al principio.\n",
        "\n",
        "A pesar de que todo esto parezca estupendo, y de que sea una idea muy buena usar nombres de variables mnemónicos, ese tipo de nombres pueden interponerse en el camino de los programadores novatos a la hora de analizar y comprender el código.\n",
        "\n",
        "Esto se debe a que los programadores principiantes no han memorizado aún las\n",
        "palabras reservadas (sólo hay 33), y a veces variables con nombres que son demasiado descriptivos pueden llegar a parecerles parte del lenguaje y no simplemente nombres de variable bien elegidos.\n",
        "\n",
        "Echa un vistazo rápido al siguiente código de ejemplo en Python, que se mueve\n",
        "en bucle a través de un conjunto de datos. Trataremos los bucles pronto, pero por ahora tan sólo trata de entender su significado:\n",
        "\n",
        "```\n",
        "for word in words:\n",
        "    print(word)\n",
        "```\n",
        "¿Qué ocurre aquí? ¿Cuáles de las piezas (for, word, in, etc.) son palabras reser-\n",
        "vadas y cuáles son simplemente nombres de variables? ¿Acaso Python comprende\n",
        "de un modo básico la noción de palabras (words)? Los programadores novatos\n",
        "tienen problemas separando qué parte del código debe mantenerse tal como está\n",
        "en este ejemplo y qué partes son simplemente elección del programador.\n",
        "El código siguiente es equivalente al de arriba:\n",
        "\n",
        "```\n",
        "for slice in pizza:\n",
        "    print(slice)\n",
        "```\n"
      ]
    },
    {
      "cell_type": "markdown",
      "metadata": {
        "id": "h7JS04FF_Hdp"
      },
      "source": [
        "Para los principiantes es más fácil estudiar este código y saber qué partes son palabras reservadas definidas por Python y qué partes son simplemente nombres de variables elegidas por el programador. Está bastante claro que Python no entiende nada de pizza ni de porciones, ni del hecho de que una pizza consiste en un conjunto de una o más porciones.\n",
        "\n",
        "Pero si nuestro programa lo que realmente va a hacer es leer datos y buscar palabras\n",
        "en ellos, pizza y porción son nombres muy poco mnemónicos. Elegirlos como nombres de variables distrae del propósito real del programa.\n",
        "\n",
        "Dentro de muy poco tiempo, conocerás las palabras reservadas más comunes, y\n",
        "empezarás a ver cómo esas palabras reservadas resaltan sobre las demás:\n",
        "\n",
        "Las partes del código que están definidas por Python (for, in, print, y :) están\n",
        "en negrita, mientras que las variables elegidas por el programador (word y words)\n",
        "no lo están. Muchos editores de texto son conscientes de la sintaxis de Python\n",
        "y colorearán las palabras reservadas de forma diferente para darte pistas que te\n",
        "permitan mantener tus variables y las palabras reservadas separados. Dentro de\n",
        "poco empezarás a leer Python y podrás determinar rápidamente qué es una variable\n",
        "y qué es una palabra reservada."
      ]
    },
    {
      "cell_type": "code",
      "metadata": {
        "id": "p_qyYEh1-nd-"
      },
      "source": [],
      "execution_count": null,
      "outputs": []
    },
    {
      "cell_type": "markdown",
      "metadata": {
        "id": "1Xrh3djVHdA4"
      },
      "source": [
        "# **Depuración**\n",
        "\n",
        "En este punto, el error de sintaxis que es más probable que cometas será intentar\n",
        "utilizar nombres de variables no válidos, como class y yield, que son palabras\n",
        "clave, o odd~job y US$, que contienen caracteres no válidos.\n",
        "\n",
        "Si pones un espacio en un nombre de variable, Python cree que se trata de dos\n",
        "operandos sin ningún operador:"
      ]
    },
    {
      "cell_type": "code",
      "metadata": {
        "id": "e1R22c6b_cg_"
      },
      "source": [
        "bad name = 5"
      ],
      "execution_count": null,
      "outputs": []
    },
    {
      "cell_type": "code",
      "metadata": {
        "id": "0v9XpUw8_f3g"
      },
      "source": [
        "month = 09"
      ],
      "execution_count": null,
      "outputs": []
    },
    {
      "cell_type": "markdown",
      "metadata": {
        "id": "SSgjmwMS_dK9"
      },
      "source": [
        "Para la mayoría de errores de sintaxis, los mensajes de error no ayudan mucho.\n",
        "Los mensajes más comunes son SyntaxError: invalid syntax y SyntaxError: invalid token, ninguno de los cuales resulta muy informativo.\n",
        "\n",
        "El runtime error (error en tiempo de ejecución) que es más probable que obtengas es un “use before def” (uso antes de definir); que significa que estás intentando usar una variable antes de que le hayas asignado un valor. Eso puede ocurrir si escribes mal el nombre de la variable:"
      ]
    },
    {
      "cell_type": "code",
      "metadata": {
        "id": "rpb9tvcO_qZr"
      },
      "source": [
        "principal = 327.68\n",
        "interest = principle * rate"
      ],
      "execution_count": null,
      "outputs": []
    },
    {
      "cell_type": "markdown",
      "metadata": {
        "id": "Qw_Siy2T_2VJ"
      },
      "source": [
        "Los nombres de las variables son sensibles a mayúsculas, así que LaTeX no es lo mismo que latex.\n",
        "\n",
        "En este punto, la causa más probable de un error semántico es el orden de las\n",
        "operaciones. Por ejemplo, para evaluar $\\frac{1}{2\\pi}$, puedes sentirte tentado a escribir"
      ]
    },
    {
      "cell_type": "code",
      "metadata": {
        "id": "PpNba-EFUMNs"
      },
      "source": [
        "peso = 23\n",
        "print(pesO)"
      ],
      "execution_count": null,
      "outputs": []
    },
    {
      "cell_type": "code",
      "metadata": {
        "id": "VhGcjWCbHlbZ"
      },
      "source": [
        "pi = 3.1415\n",
        "1.0 / 2.0 * pi"
      ],
      "execution_count": null,
      "outputs": []
    },
    {
      "cell_type": "markdown",
      "metadata": {
        "id": "A5cyUaS_ALuS"
      },
      "source": [
        "Pero la división se evalúa antes, ¡así que obtendrás π/2, que no es lo mismo! No\n",
        "hay forma de que Python sepa qué es lo que querías escribir exactamente, así que\n",
        "en este caso no obtienes un mensaje de error; simplemente obtienes una respuesta\n",
        "incorrecta."
      ]
    },
    {
      "cell_type": "markdown",
      "metadata": {
        "id": "pNnCn4kaHmjY"
      },
      "source": [
        "# **Glosario**\n",
        "\n",
        "**asignación** Una sentencia que asigna un valor a una variable.\n",
        "\n",
        "**cadena** Un tipo que representa secuencias de caracteres.\n",
        "\n",
        "**concatenar** Unir dos operandos, uno a continuación del otro.\n",
        "\n",
        "**comentario** Información en un programa que se pone para otros programadores\n",
        "(o para cualquiera que lea el código fuente), y no tiene efecto alguno en la\n",
        "ejecución del programa.\n",
        "\n",
        "**división entera** La operación que divide dos números y trunca la parte fraccionaria.\n",
        "\n",
        "**entero** Un tipo que representa números enteros.\n",
        "\n",
        "**evaluar** Simplificar una expresión realizando las operaciones en orden para\n",
        "obtener un único valor.\n",
        "\n",
        "**expresión** Una combinación de variables, operadores y valores que representan un único valor resultante.\n",
        "\n",
        "**mnemónico** Una ayuda para memorizar. A menudo damos nombres mnemónicos a las variables para ayudarnos a recordar qué está almacenado en ellas.\n",
        "\n",
        "**palabra clave** Una palabra reservada que es usada por el compilador para\n",
        "analizar un programa; no se pueden usar palabres clave como **if**, **def**, y **while** como nombres de variables.\n",
        "\n",
        "**punto flotante** Un tipo que representa números con parte decimal.\n",
        "\n",
        "**operador** Un símbolo especial que representa un cálculo simple, como suma, multiplicación o concatenación de cadenas.\n",
        "operador módulo Un operador, representado por un signo de porcentaje (%), que funciona con enteros y obtiene el resto cuando un número es dividido por otro.\n",
        "\n",
        "**operando** Uno de los valores con los cuales un operador opera.\n",
        "\n",
        "**reglas de precedencia** El conjunto de reglas que gobierna el orden en el cual\n",
        "son evaluadas las expresiones que involucran a múltiples operadores.\n",
        "\n",
        "**sentencia** Una sección del código que representa un comando o acción. Hasta\n",
        "ahora, las únicas sentencias que hemos visto son asignaciones y sentencias\n",
        "print.\n",
        "\n",
        "**tipo** Una categoría de valores. Los tipos que hemos visto hasta ahora son enteros (tipo **int**), números en punto flotante (tipo **float**), y cadenas (tipo **str**).\n",
        "\n",
        "**valor** Una de las unidades básicas de datos, como un número o una cadena, que\n",
        "un programa manipula.\n",
        "\n",
        "**variable** Un nombre que hace referencia a un valor."
      ]
    },
    {
      "cell_type": "markdown",
      "metadata": {
        "id": "AUCDF4ZsHrna"
      },
      "source": [
        "# **Ejercicios**\n",
        "\n",
        "**Ejercicio 2**: Escribe un programa que use input para pedirle al usuario\n",
        "su nombre y luego darle la bienvenida.\n",
        "\n",
        "        Introduzca tu nombre: Chuck\n",
        "        Hola, Chuck\n",
        "\n",
        "**Ejercicio 3**: Escribe un programa para pedirle al usuario el número de horas y la tarifa por hora para calcular el salario bruto.\n",
        "\n",
        "        Introduzca Horas: 35\n",
        "        Introduzca Tarifa: 2.75\n",
        "        Salario: 96.25\n",
        "\n",
        "Por ahora no es necesario preocuparse de que nuestro salario tenga exactamente dos dígitos después del punto decimal. Si quieres, puedes probar la función interna de Python **round** para redondear de forma adecuada el salario resultante a dos\n",
        "dígitos decimales.\n",
        "\n",
        "**Ejercicio 4**: Asume que ejecutamos las siguientes sentencias de asignación:\n",
        "\n",
        "```\n",
        "ancho = 17\n",
        "alto = 12.0\n",
        "```\n",
        "Para cada una de las expresiones siguientes, escribe el valor de la expresión y el tipo (del valor de la expresión).\n",
        "\n",
        "1. ancho/2\n",
        "2. ancho/2.0\n",
        "3. alto/3\n",
        "4. 1 + 2 * 5\n",
        "\n",
        "Usa el intérprete de Python para comprobar tus respuestas.\n",
        "\n",
        "**Ejercicio 5**: Escribe un programa que le pida al usuario una temperatura en grados Celsius, la convierta a grados Fahrenheit e imprima por pantalla la temperatura convertida."
      ]
    },
    {
      "cell_type": "code",
      "metadata": {
        "id": "u52inwnwQjUS"
      },
      "source": [
        "# Ejercicio 2: Escribe un programa que use input para pedirle al usuario su nombre y luego darle la bienvenida.\n",
        "\n",
        "#     Introduzca tu nombre: Chuck\n",
        "#     Hola, Chuck\n",
        "\n",
        "nombre = input(\"Introduzca tu nombre: \\n\")\n",
        "print(\"Hola, \", nombre)"
      ],
      "execution_count": null,
      "outputs": []
    }
  ]
}